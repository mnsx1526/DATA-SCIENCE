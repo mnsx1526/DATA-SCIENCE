{
 "cells": [
  {
   "cell_type": "markdown",
   "id": "5e3486d8-81dd-4eb8-815b-9d5e51c51834",
   "metadata": {},
   "source": [
    "# OBJECT ORIENTED PROGRAMMING "
   ]
  },
  {
   "cell_type": "markdown",
   "id": "998b7bac-4b4e-4910-8a0e-090884585e7e",
   "metadata": {},
   "source": [
    "SOFTWARE\n",
    "    PACKAGES\n",
    "        LIBRARIES\n",
    "            MODULES\n",
    "                CLASS CONCEPT\n",
    "                    FUNCTIONAL PROGRAMMING\n",
    "                        CONDITIONAL PROGRAMMING\n",
    "                            BASIC PROGRAMMING"
   ]
  },
  {
   "cell_type": "code",
   "execution_count": 1,
   "id": "f34c714d-6efd-4ccc-87c4-9b30c4f15d4e",
   "metadata": {},
   "outputs": [],
   "source": [
    "class IITM:\n",
    "    def intro():\n",
    "        print(\"hello world\")\n",
    "\n",
    "    def sayhello():\n",
    "        print(\"hello\")\n",
    "\n",
    "    def bye():\n",
    "        print(\"bbie\")"
   ]
  },
  {
   "cell_type": "code",
   "execution_count": 2,
   "id": "f2e6ce40-18bb-4938-a019-99f701ac09a0",
   "metadata": {},
   "outputs": [
    {
     "name": "stdout",
     "output_type": "stream",
     "text": [
      "<class '__main__.IITM'>\n"
     ]
    }
   ],
   "source": [
    "ayan = IITM() #creating a object / instance creation\n",
    "print(type(ayan))   # main in the output tells where we have saved the object and that its user defined"
   ]
  },
  {
   "cell_type": "code",
   "execution_count": 39,
   "id": "02e0cd73-a16d-44e7-88f9-1087082aa15a",
   "metadata": {},
   "outputs": [
    {
     "data": {
      "text/plain": [
       "' this is a auto call method or also called magic method, dunder method\\n __init__ (in it method : initialization )this is an inbuilt constructor and is auto called\\n it is called when we create an object\\n the first method should always be __init__'"
      ]
     },
     "execution_count": 39,
     "metadata": {},
     "output_type": "execute_result"
    }
   ],
   "source": [
    "'''when we create a class an object is passed by default in every function which is why parameter is to be given (any xyz useless parameter \n",
    "    can be given to just occupy space'''\n",
    "''' jab bhi class mein function/method banayenge to self as parameter declare karenge (if we dont want to give any parameter then self denge)'''\n",
    "class Remote:  \n",
    "    def __init__(self): \n",
    "        print(\"This is automated message\")\n",
    "        \n",
    "    def volume_up(self):\n",
    "        print(\"volume up by 1 unit\")\n",
    "        \n",
    "    def volume_down(self):\n",
    "        print(\"volume down by 1 unit\")\n",
    "\n",
    "    def power_on(self):\n",
    "        print(\"TV is ON\")\n",
    "\n",
    "    def power_off(self):\n",
    "        print(\"TV is OFF\")\n",
    "\n",
    "    def auto_sugg_channel(self):\n",
    "        import time\n",
    "        print('searching trending channel')\n",
    "        time.sleep(3) #sleep/wait for 3 seconds to show processing\n",
    "        print(\"Youtube!! IITM\")\n",
    "\n",
    "    def __del__(self):  #destructor is used to delete the object\n",
    "        print(\"the object has been destructed\")\n",
    "\n",
    "''' this is a auto call method or also called magic method, dunder method\n",
    " __init__ (in it method : initialization )this is an inbuilt constructor and is auto called\n",
    " it is called when we create an object\n",
    " the first method should always be __init__\n",
    " this cannot be called according to the user and can only be auto called whenever an object is created for a particular class'''"
   ]
  },
  {
   "cell_type": "code",
   "execution_count": 40,
   "id": "a24475a0-522a-4a37-ba76-68f93aeba7f0",
   "metadata": {},
   "outputs": [
    {
     "name": "stdout",
     "output_type": "stream",
     "text": [
      "This is automated message\n",
      "done\n"
     ]
    }
   ],
   "source": [
    "mi = Remote()\n",
    "print(\"done\")"
   ]
  },
  {
   "cell_type": "code",
   "execution_count": 41,
   "id": "451f228b-07a0-4af4-8c30-07f1767d39fd",
   "metadata": {},
   "outputs": [
    {
     "name": "stdout",
     "output_type": "stream",
     "text": [
      "TV is ON\n",
      "TV is OFF\n",
      "volume down by 1 unit\n",
      "volume up by 1 unit\n",
      "searching trending channel\n",
      "Youtube!! IITM\n"
     ]
    }
   ],
   "source": [
    "mi.power_on()\n",
    "mi.power_off()\n",
    "mi.volume_down()\n",
    "mi.volume_up()\n",
    "mi.auto_sugg_channel()"
   ]
  },
  {
   "cell_type": "code",
   "execution_count": 45,
   "id": "2583ab28-0258-4e82-ae06-4f794c263558",
   "metadata": {},
   "outputs": [],
   "source": [
    "#mi.init() we cannot call __init__ according to our will it can only be auto called in the beginning"
   ]
  },
  {
   "cell_type": "code",
   "execution_count": 42,
   "id": "cfd9d7a7-edfa-49f5-b5dc-c6bdff89d0a6",
   "metadata": {},
   "outputs": [
    {
     "name": "stdout",
     "output_type": "stream",
     "text": [
      "the object has been destructed\n"
     ]
    }
   ],
   "source": [
    "del(mi)"
   ]
  },
  {
   "cell_type": "markdown",
   "id": "f064e002-787a-4f30-b3bc-d2811093f452",
   "metadata": {},
   "source": [
    "class ke andar define karaenge to method hoga and class ke bahar define karange to function\n",
    "function can be called anywhere\n",
    "methods can be called only used inside the class"
   ]
  },
  {
   "cell_type": "code",
   "execution_count": 35,
   "id": "60cf622c-2841-4cc9-8447-420c80168a3c",
   "metadata": {},
   "outputs": [
    {
     "name": "stdout",
     "output_type": "stream",
     "text": [
      "searching trending channel\n",
      "Youtube!! IITM\n"
     ]
    }
   ],
   "source": [
    "class XYZ:\n",
    "    def __init__(self):\n",
    "        import time\n",
    "        print('searching trending channel')\n",
    "        time.sleep(3) #sleep/wait for 3 seconds to show processing\n",
    "        print(\"Youtube!! IITM\")\n",
    "\n",
    "abc = XYZ()\n",
    "''' this is like a pop up that automatically opens up whenever an object is created\n",
    "ex: auto launch of spotify whenever we turn on our laptops'''"
   ]
  },
  {
   "cell_type": "code",
   "execution_count": 72,
   "id": "65af5263-744f-4e91-a88c-330519ac25a9",
   "metadata": {},
   "outputs": [
    {
     "name": "stdout",
     "output_type": "stream",
     "text": [
      "Collecting pygameNote: you may need to restart the kernel to use updated packages.\n",
      "\n",
      "  Downloading pygame-2.6.1-cp313-cp313-win_amd64.whl.metadata (13 kB)\n",
      "Downloading pygame-2.6.1-cp313-cp313-win_amd64.whl (10.6 MB)\n",
      "   ---------------------------------------- 0.0/10.6 MB ? eta -:--:--\n",
      "   ----- ---------------------------------- 1.6/10.6 MB 11.3 MB/s eta 0:00:01\n",
      "   -------------- ------------------------- 3.9/10.6 MB 11.4 MB/s eta 0:00:01\n",
      "   ------------------------ --------------- 6.6/10.6 MB 11.5 MB/s eta 0:00:01\n",
      "   --------------------------------- ------ 8.9/10.6 MB 11.6 MB/s eta 0:00:01\n",
      "   ---------------------------------------- 10.6/10.6 MB 10.8 MB/s eta 0:00:00\n",
      "Installing collected packages: pygame\n",
      "Successfully installed pygame-2.6.1\n"
     ]
    }
   ],
   "source": [
    "pip install pygame"
   ]
  },
  {
   "cell_type": "code",
   "execution_count": 98,
   "id": "e98cb206-a4be-4808-bb3a-23c64e5e7dad",
   "metadata": {},
   "outputs": [],
   "source": [
    "class Car:\n",
    "\n",
    "    def __init__(self):  #autocalled, all the things which are given and out of out control, basic feautures which we are aware of\n",
    "        self.color = 'black'\n",
    "        self.wheel = 4 #after writing self. we can use these variable in the fuctions further made\n",
    "        self.spare_wheel = 1\n",
    "        self.airbag_support = True\n",
    "        self.fuel_type = 'Petrol'\n",
    "        self.car_type = 'sedan'\n",
    "        self.gear_type = 'manual'\n",
    "        print('THE CAR IS READY')\n",
    "\n",
    "    #FEATURES (which we can control)\n",
    "\n",
    "    def auto_park(self):\n",
    "        import IPython\n",
    "        url = '''https://cdn.shopify.com/s/files/1/0761/9962/5012/files/parking_sensor_blog_2_480x480.gif'''\n",
    "        display(IPython.display.Image(url))\n",
    "        print(self.wheel)\n",
    "\n",
    "    def enigine_on(self):\n",
    "        import pygame\n",
    "        pygame.init()\n",
    "        path = r'''C:\\Users\\HP\\Downloads\\car-engine-ignition-fail-352768.mp3'''\n",
    "        music = pygame.mixer.Sound(path)\n",
    "        music.play()\n",
    "\n",
    "    def speed_up(self):\n",
    "        c=10\n",
    "        while c<=200:\n",
    "            import time\n",
    "            print(f\"speed is increasing by {c} km/hr\")\n",
    "            c+=10\n",
    "            display(clear= True)\n",
    "            time.sleep(0.5)\n",
    "\n",
    "            if c>=100:\n",
    "                print('you are crossing the speed limit')\n",
    "                break\n",
    "\n",
    "    def drift_break(self,drift = False):\n",
    "        if drift==True:\n",
    "            import pygame\n",
    "            pygame.init()\n",
    "            path = r'''C:\\Users\\HP\\Downloads\\-110063.mp3'''\n",
    "            music = pygame.mixer.Sound(path)\n",
    "            music.play()\n",
    "            import IPython\n",
    "            url='''https://media.tenor.com/puPGAEN97U0AAAAM/lol-mekro.gif'''\n",
    "            display(IPython.display.Image(url))\n",
    "        else:\n",
    "            print(\"brake applied\")\n",
    "            "
   ]
  },
  {
   "cell_type": "code",
   "execution_count": 89,
   "id": "8e85b547-134d-4b4d-b460-5b83c514ab23",
   "metadata": {},
   "outputs": [
    {
     "name": "stdout",
     "output_type": "stream",
     "text": [
      "done\n"
     ]
    }
   ],
   "source": [
    "a=Car()"
   ]
  },
  {
   "cell_type": "code",
   "execution_count": 84,
   "id": "6f354354-2b70-4eae-918b-ca7b8d99abbd",
   "metadata": {},
   "outputs": [
    {
     "name": "stdout",
     "output_type": "stream",
     "text": [
      "brake applied\n"
     ]
    }
   ],
   "source": [
    "a.drift_break()"
   ]
  },
  {
   "cell_type": "code",
   "execution_count": 85,
   "id": "57f7bc39-af1f-4a01-822a-35b31cabbb49",
   "metadata": {},
   "outputs": [],
   "source": [
    "a.enigine_on()"
   ]
  },
  {
   "cell_type": "code",
   "execution_count": 86,
   "id": "25fc4ae9-d0a4-4dd7-90d2-f146caaa88e8",
   "metadata": {},
   "outputs": [
    {
     "name": "stdout",
     "output_type": "stream",
     "text": [
      "you are crossing the speed limit\n"
     ]
    }
   ],
   "source": [
    "a.speed_up()"
   ]
  },
  {
   "cell_type": "code",
   "execution_count": 90,
   "id": "bfc7113e-b342-47c6-b497-c6b619236f06",
   "metadata": {},
   "outputs": [
    {
     "data": {
      "text/plain": [
       "'sedan'"
      ]
     },
     "execution_count": 90,
     "metadata": {},
     "output_type": "execute_result"
    }
   ],
   "source": [
    "a.car_type #we dont use () here as its a instance not a function"
   ]
  },
  {
   "cell_type": "code",
   "execution_count": 91,
   "id": "cf781cac-aef1-46ff-8bdb-a145db43746f",
   "metadata": {},
   "outputs": [
    {
     "data": {
      "text/plain": [
       "'black'"
      ]
     },
     "execution_count": 91,
     "metadata": {},
     "output_type": "execute_result"
    }
   ],
   "source": [
    "a.color"
   ]
  },
  {
   "cell_type": "code",
   "execution_count": 100,
   "id": "adbfe6b8-0358-4d90-9a7e-9870e526393c",
   "metadata": {},
   "outputs": [
    {
     "name": "stdout",
     "output_type": "stream",
     "text": [
      "THE CAR IS READY\n"
     ]
    }
   ],
   "source": [
    "b = Car()\n",
    "#we want to update the color of b object while keeping the color of object a the same, so we will update the instances in init variable\n",
    "b.color = 'white'"
   ]
  },
  {
   "cell_type": "code",
   "execution_count": 95,
   "id": "2f85ce08-56e1-48d5-8749-36c826013f82",
   "metadata": {},
   "outputs": [
    {
     "data": {
      "text/plain": [
       "'white'"
      ]
     },
     "execution_count": 95,
     "metadata": {},
     "output_type": "execute_result"
    }
   ],
   "source": [
    "b.color  #the color of b is changed"
   ]
  },
  {
   "cell_type": "code",
   "execution_count": 96,
   "id": "7ae38625-cdbe-404f-ad16-d93ccf947cb8",
   "metadata": {},
   "outputs": [
    {
     "data": {
      "text/plain": [
       "'black'"
      ]
     },
     "execution_count": 96,
     "metadata": {},
     "output_type": "execute_result"
    }
   ],
   "source": [
    "a.color #the color of a remains the same"
   ]
  },
  {
   "cell_type": "code",
   "execution_count": 102,
   "id": "371a8616-2c03-4a03-8009-8daa226386db",
   "metadata": {},
   "outputs": [
    {
     "data": {
      "text/plain": [
       "'SUV'"
      ]
     },
     "execution_count": 102,
     "metadata": {},
     "output_type": "execute_result"
    }
   ],
   "source": [
    "b.car_type = 'SUV'\n",
    "b.car_type"
   ]
  },
  {
   "cell_type": "code",
   "execution_count": 103,
   "id": "806dd021-e53d-4664-8733-4d4727ffb586",
   "metadata": {},
   "outputs": [
    {
     "data": {
      "text/plain": [
       "'sedan'"
      ]
     },
     "execution_count": 103,
     "metadata": {},
     "output_type": "execute_result"
    }
   ],
   "source": [
    "a.car_type"
   ]
  },
  {
   "cell_type": "code",
   "execution_count": 105,
   "id": "50e99b0d-2a11-44eb-9aca-ae8eb2b78cb2",
   "metadata": {},
   "outputs": [
    {
     "name": "stdout",
     "output_type": "stream",
     "text": [
      "SUV\n",
      "sedan\n"
     ]
    }
   ],
   "source": [
    "print(b.car_type)\n",
    "print(a.car_type)"
   ]
  },
  {
   "cell_type": "markdown",
   "id": "2dad8335-170b-482f-b171-045031172cf6",
   "metadata": {},
   "source": [
    "ENCAPSULATION\n",
    "hiding the sensitive data from the user which is visible and can be accessed by the dev\n",
    "types of encapsulation/access modifiers\n",
    "- public\n",
    "- private\n",
    "- protected"
   ]
  },
  {
   "cell_type": "code",
   "execution_count": 109,
   "id": "23f0950b-2435-412b-a8f6-65e233936e26",
   "metadata": {},
   "outputs": [],
   "source": [
    "class ATM:\n",
    "\n",
    "    def __init__(self):\n",
    "        self.pin = 1111  #in init space we write all the known and given information\n",
    "        self.balance = 50000   #public variable\n",
    "        print(\"Welcome to the ATM\")\n",
    "\n",
    "    def change_pin(self):  #public method\n",
    "        self.pin = int(input(\"Enter new pin\"))\n",
    "        print('pin has been updated')\n",
    "\n",
    "    def show_balance(self):\n",
    "        print(f'The balance is {self.balance}')\n",
    "\n",
    "    def atm_performance(self):\n",
    "        print('ATM is 100% working')\n",
    "        "
   ]
  },
  {
   "cell_type": "code",
   "execution_count": 110,
   "id": "b5629675-0f9b-4a9e-aa12-f0f3c1c0f24a",
   "metadata": {},
   "outputs": [
    {
     "name": "stdout",
     "output_type": "stream",
     "text": [
      "Welcome to the ATM\n"
     ]
    }
   ],
   "source": [
    "icic =ATM()"
   ]
  },
  {
   "cell_type": "code",
   "execution_count": 111,
   "id": "2cdaa6d6-edf4-4808-8da0-6d2a13b32383",
   "metadata": {},
   "outputs": [
    {
     "name": "stdout",
     "output_type": "stream",
     "text": [
      "The balance is 50000\n"
     ]
    }
   ],
   "source": [
    "icic.show_balance()"
   ]
  },
  {
   "cell_type": "code",
   "execution_count": 112,
   "id": "63350f99-0cd5-4420-ad8a-f05514ff002a",
   "metadata": {},
   "outputs": [
    {
     "data": {
      "text/plain": [
       "50000"
      ]
     },
     "execution_count": 112,
     "metadata": {},
     "output_type": "execute_result"
    }
   ],
   "source": [
    "icic.balance"
   ]
  },
  {
   "cell_type": "code",
   "execution_count": 113,
   "id": "7b0e94b4-615c-4991-b4d7-a79e67af6f8b",
   "metadata": {},
   "outputs": [
    {
     "name": "stdout",
     "output_type": "stream",
     "text": [
      "Welcome to the ATM\n"
     ]
    }
   ],
   "source": [
    "#ENCAPSULATION (hide karna)\n",
    "# to make a variable protected we have to add a '_' after ."
   ]
  },
  {
   "cell_type": "code",
   "execution_count": 119,
   "id": "7594855f-6dd8-4f47-bb91-9dd45d7df262",
   "metadata": {},
   "outputs": [],
   "source": [
    "class ATM_protected:\n",
    "# protected version\n",
    "    def __init__(self):\n",
    "        self._pin = 1111  #in init space we write all the known and given information\n",
    "        self._balance = 50000   #public variable\n",
    "        print(\"Welcome to the ATM\")\n",
    "\n",
    "    def change_pin(self):  #public method\n",
    "        self._pin = int(input(\"Enter new pin\"))\n",
    "        print('pin has been updated')\n",
    "\n",
    "    def show_balance(self):\n",
    "        print(f'The balance is {self._balance}')\n",
    "\n",
    "    def atm_performance(self):\n",
    "        print('ATM is 100% working')\n",
    "        "
   ]
  },
  {
   "cell_type": "code",
   "execution_count": 120,
   "id": "3a89794b-e0b1-4201-8455-97706f28c59f",
   "metadata": {},
   "outputs": [
    {
     "name": "stdout",
     "output_type": "stream",
     "text": [
      "Welcome to the ATM\n"
     ]
    }
   ],
   "source": [
    "axis = ATM_protected()"
   ]
  },
  {
   "cell_type": "code",
   "execution_count": 123,
   "id": "aa385785-6754-4028-a47f-8bb9bd8c5369",
   "metadata": {},
   "outputs": [],
   "source": [
    "class ATM_private:\n",
    "# private version (double underscore)\n",
    "    def __init__(self):\n",
    "        self.__pin = 1111  #in init space we write all the known and given information\n",
    "        self.__balance = 50000   #private variable\n",
    "        print(\"Welcome to the ATM\")\n",
    "\n",
    "    def __change_pin(self):  #private method\n",
    "        self.__pin = int(input(\"Enter new pin\"))\n",
    "        print('pin has been updated')\n",
    "\n",
    "    def show_balance(self):\n",
    "        print(f'The balance is {self.__balance}')\n",
    "\n",
    "    def atm_performance(self):\n",
    "        print('ATM is 100% working')\n",
    "        "
   ]
  },
  {
   "cell_type": "code",
   "execution_count": 125,
   "id": "ff0b3940-c9a7-4928-b2ca-8f0a521ffe4d",
   "metadata": {},
   "outputs": [
    {
     "name": "stdout",
     "output_type": "stream",
     "text": [
      "Welcome to the ATM\n"
     ]
    }
   ],
   "source": [
    "boi = ATM_private()"
   ]
  },
  {
   "cell_type": "code",
   "execution_count": 126,
   "id": "25ee9683-3300-4338-8e99-a0dba02a09ad",
   "metadata": {},
   "outputs": [
    {
     "data": {
      "text/plain": [
       "50000"
      ]
     },
     "execution_count": 126,
     "metadata": {},
     "output_type": "execute_result"
    }
   ],
   "source": [
    "boi._ATM_private__balance  #in private instance it by itself will make the class private "
   ]
  },
  {
   "cell_type": "code",
   "execution_count": null,
   "id": "26061199-216d-4cb3-98ae-4f5db341edf9",
   "metadata": {},
   "outputs": [],
   "source": []
  }
 ],
 "metadata": {
  "kernelspec": {
   "display_name": "Python [conda env:base] *",
   "language": "python",
   "name": "conda-base-py"
  },
  "language_info": {
   "codemirror_mode": {
    "name": "ipython",
    "version": 3
   },
   "file_extension": ".py",
   "mimetype": "text/x-python",
   "name": "python",
   "nbconvert_exporter": "python",
   "pygments_lexer": "ipython3",
   "version": "3.13.5"
  }
 },
 "nbformat": 4,
 "nbformat_minor": 5
}
