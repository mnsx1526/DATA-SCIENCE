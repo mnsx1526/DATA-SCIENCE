{
  "nbformat": 4,
  "nbformat_minor": 0,
  "metadata": {
    "colab": {
      "private_outputs": true,
      "provenance": []
    },
    "kernelspec": {
      "name": "python3",
      "display_name": "Python 3"
    },
    "language_info": {
      "name": "python"
    }
  },
  "cells": [
    {
      "cell_type": "code",
      "execution_count": null,
      "metadata": {
        "id": "ptoWFfbQZpuR"
      },
      "outputs": [],
      "source": [
        "# import qrcode\n",
        "# img = qrcode.make('https://colab.research.google.com/drive/15M9A1ScE3xpUZJQeYrZVC6E2qJ0W_Ise?usp=sharing')\n",
        "# img.save('myqr.png')\n"
      ]
    },
    {
      "cell_type": "code",
      "source": [
        "# pip install qrcode"
      ],
      "metadata": {
        "id": "laehcIUsZt8c"
      },
      "execution_count": null,
      "outputs": []
    },
    {
      "cell_type": "code",
      "source": [
        "# # Project Objective\n",
        "# Heart Disease Prediction using Machine Learning\n",
        "# Heart disease prevention is critical, and data-driven prediction systems can significantly aid in early diagnosis and treatment. Machine Learning offers accurate prediction capabilities, enhancing healthcare outcomes.\n",
        "# In this project, I analyzed a heart disease dataset with appropriate preprocessing. Multiple classification algorithms were implemented in Python using Scikit-learn and Keras to predict the presence of heart disease.\n",
        "\n",
        "# **Algorithms Used**:\n",
        "# - Logistic Regression\n",
        "# - Naive Bayes\n",
        "# - Support Vector Machine (Linear)\n",
        "# - K-Nearest Neighbors\n",
        "# - Decision Tree\n",
        "# - Random Forest\n",
        "# - XGBoost\n",
        "# - Artificial Neural Network (1 Hidden Layer, Keras)"
      ],
      "metadata": {
        "id": "RbYewzNPZuWB"
      },
      "execution_count": null,
      "outputs": []
    },
    {
      "cell_type": "code",
      "source": [],
      "metadata": {
        "id": "mPP5cfnKc93P"
      },
      "execution_count": null,
      "outputs": []
    },
    {
      "cell_type": "code",
      "source": [
        "import numpy as np\n",
        "import pandas as pd\n",
        "import matplotlib.pyplot as plt\n",
        "import seaborn as sns\n",
        "import os\n",
        "from sklearn.model_selection import train_test_split\n",
        "from sklearn.preprocessing import StandardScaler\n",
        "from sklearn.metrics import mean_absolute_error, mean_squared_error\n",
        "import warnings\n",
        "warnings.filterwarnings('ignore')\n",
        "print('All Modules Loaded Successfully!')"
      ],
      "metadata": {
        "id": "V0ltKZCNbrcE"
      },
      "execution_count": null,
      "outputs": []
    },
    {
      "cell_type": "code",
      "source": [
        "url = '''https://github.com/ankitmisk/Heart_Disease_Prediction_ML_Model/blob/main/heart.csv?raw=true'''\n",
        "df = pd.read_csv(url)\n",
        "print('Done')"
      ],
      "metadata": {
        "id": "8nt3MuKYdkXJ"
      },
      "execution_count": null,
      "outputs": []
    },
    {
      "cell_type": "code",
      "source": [
        "#  Step 3 Understanding Data using EDA"
      ],
      "metadata": {
        "id": "qZk61BPddnLW"
      },
      "execution_count": null,
      "outputs": []
    },
    {
      "cell_type": "code",
      "source": [
        "# 3.1 Data head\n",
        "df.head()"
      ],
      "metadata": {
        "id": "QRt7CFGBfIpr"
      },
      "execution_count": null,
      "outputs": []
    },
    {
      "cell_type": "code",
      "source": [
        "# 3.2 data tail\n",
        "df.tail()"
      ],
      "metadata": {
        "id": "f1g2z5r-fJxQ"
      },
      "execution_count": null,
      "outputs": []
    },
    {
      "cell_type": "code",
      "source": [
        "# 3.3 data Shape\n",
        "\n",
        "df.shape"
      ],
      "metadata": {
        "id": "L2weXYZWfLSm"
      },
      "execution_count": null,
      "outputs": []
    },
    {
      "cell_type": "code",
      "source": [
        "# 3.4 data information\n",
        "df.info()"
      ],
      "metadata": {
        "id": "E9q42zSkfMz2"
      },
      "execution_count": null,
      "outputs": []
    },
    {
      "cell_type": "code",
      "source": [
        "# 3.5 data columns\n",
        "df.columns"
      ],
      "metadata": {
        "id": "ZBjJGpFvfObX"
      },
      "execution_count": null,
      "outputs": []
    },
    {
      "cell_type": "code",
      "source": [],
      "metadata": {
        "id": "lBsImX0JfZoK"
      },
      "execution_count": null,
      "outputs": []
    },
    {
      "cell_type": "markdown",
      "source": [
        "###### 3.6 Column Desc\n",
        "- **age**:\t\t\t``age``\n",
        "- **sex**:\t\t\t``1: male, 0: female``\n",
        "- **cp**:\t\t\t``chest pain type, 1: typical angina, 2: atypical angina, 3: non-anginal pain, 4: asymptomatic``\n",
        "- **trestbps**:\t\t\t``resting blood pressure``\n",
        "- **chol**:\t\t\t`` serum cholestoral in mg/dl``\n",
        "- **fbs**:\t\t\t``fasting blood sugar > 120 mg/dl``\n",
        "- **restecg**:\t\t\t``resting electrocardiographic results (values 0,1,2)``\n",
        "- **thalach**:\t\t\t ``maximum heart rate achieved``\n",
        "- **exang**:\t\t\t``exercise induced angina``\n",
        "- **oldpeak**:\t\t\t``oldpeak = ST depression induced by exercise relative to rest``\n",
        "- **slope**:\t\t\t``the slope of the peak exercise ST segment``\n",
        "- **ca**:\t\t\t``number of major vessels (0-3) colored by flourosopy``\n",
        "- **thal**:\t\t\t``thal: 3 = normal; 6 = fixed defect; 7 = reversable defect``"
      ],
      "metadata": {
        "id": "Rk7GT4nfg7Yn"
      }
    },
    {
      "cell_type": "code",
      "source": [
        "# Domain Knowledge is required for this level of project"
      ],
      "metadata": {
        "id": "ICfcn9E5gW_g"
      },
      "execution_count": null,
      "outputs": []
    },
    {
      "cell_type": "code",
      "source": [
        "df.isna().sum()\n",
        "# No null values found\n",
        "# in case of null:remove, fill, replace, drop"
      ],
      "metadata": {
        "id": "xdswE6Awg-kA"
      },
      "execution_count": null,
      "outputs": []
    },
    {
      "cell_type": "code",
      "source": [
        "df.describe().round(2)"
      ],
      "metadata": {
        "id": "ezfj99n7hfLu"
      },
      "execution_count": null,
      "outputs": []
    },
    {
      "cell_type": "code",
      "source": [
        "for i in df:\n",
        "    print(f'Column_{i}',df[i].unique())\n",
        "    print('==================',end = '\\n\\n')"
      ],
      "metadata": {
        "id": "2d_lwVVwiFp4"
      },
      "execution_count": null,
      "outputs": []
    },
    {
      "cell_type": "code",
      "source": [
        "r = 5\n",
        "c = 3\n",
        "plt.figure(figsize=(17,30))\n",
        "for i,j in enumerate(df):\n",
        "    plt.subplot(r,c,i+1)\n",
        "    plt.title(f'{j} Distribution Analysis',color = 'Blue')\n",
        "    sns.histplot(df[j],kde = True,color = 'r')\n",
        "\n",
        "plt.savefig('All Numerical Features Analysis.jpeg',dpi = 500)\n",
        "plt.show()\n"
      ],
      "metadata": {
        "id": "4M7NzGKpinDv"
      },
      "execution_count": null,
      "outputs": []
    },
    {
      "cell_type": "code",
      "source": [
        "# Target col not that much imbalance, we can proceed, if imbalance found we need to balance using sampling"
      ],
      "metadata": {
        "id": "UAaxq4sjj1qR"
      },
      "execution_count": null,
      "outputs": []
    },
    {
      "cell_type": "code",
      "source": [
        "plt.figure(figsize=(10,12))\n",
        "sns.heatmap(df.corr().round(2),cmap='mako',annot = True)\n",
        "plt.show()"
      ],
      "metadata": {
        "id": "dUQMx2bwllmi"
      },
      "execution_count": null,
      "outputs": []
    },
    {
      "cell_type": "code",
      "source": [
        "# \"thalach\" refers to the maximum heart rate achieved during exercise, specifically measured in beats per minute (bpm)"
      ],
      "metadata": {
        "id": "3S0PPAKQmfXz"
      },
      "execution_count": null,
      "outputs": []
    },
    {
      "cell_type": "code",
      "source": [
        "# Fasting blood sugar (FBS) levels, when elevated, can indicate an increased risk of heart disease"
      ],
      "metadata": {
        "id": "hOZjPq9inzbF"
      },
      "execution_count": null,
      "outputs": []
    },
    {
      "cell_type": "code",
      "source": [
        "# \"slope\" usually refers to the ST/HR slope, which is a measurement derived from an exercise stress test used to assess the severity of coronary artery disease"
      ],
      "metadata": {
        "id": "CgzJTLD0n0-L"
      },
      "execution_count": null,
      "outputs": []
    },
    {
      "cell_type": "code",
      "source": [
        "# 3.12: Target vs Features\n",
        "df.corr()['target'].sort_values(ascending = False).reset_index()\n"
      ],
      "metadata": {
        "id": "Am5J0hzpn2Cu"
      },
      "execution_count": null,
      "outputs": []
    },
    {
      "cell_type": "code",
      "source": [
        "r = 3\n",
        "c = 3\n",
        "x_col = ['sex','cp','restecg','fbs','exang','slope', 'ca', 'thal']\n",
        "plt.figure(figsize=(15,14))\n",
        "for i in range(r*c):\n",
        "    try:\n",
        "        plt.subplot(r,c,i+1)\n",
        "        plt.title(f'Feature {x_col[i]} vs Gender vs Target')\n",
        "        sns.barplot(data = df, x = x_col[i], y = 'target', palette=sns.color_palette('mako',2))\n",
        "        plt.legend(['0-Female','1-Male'])\n",
        "    except:\n",
        "        ...\n",
        "\n",
        "\n",
        "plt.show()\n"
      ],
      "metadata": {
        "id": "21-rfzePoY0s"
      },
      "execution_count": null,
      "outputs": []
    },
    {
      "cell_type": "code",
      "source": [
        "# 4.1 Divide data into Target and Features\n",
        "\n",
        "X = df.iloc[:,:-1]\n",
        "y = df['target']\n"
      ],
      "metadata": {
        "id": "WDiTPnNjqz92"
      },
      "execution_count": null,
      "outputs": []
    },
    {
      "cell_type": "code",
      "source": [
        "X.shape, y.shape"
      ],
      "metadata": {
        "id": "7_2lXEBR3nD9"
      },
      "execution_count": null,
      "outputs": []
    },
    {
      "cell_type": "code",
      "source": [
        "# 4.2 Train - test Split"
      ],
      "metadata": {
        "id": "iCMiqbeE3q3i"
      },
      "execution_count": null,
      "outputs": []
    },
    {
      "cell_type": "code",
      "source": [
        "# 4.2 Train - test Split\n",
        "X_train, X_test, y_train, y_test = train_test_split(X,y, test_size=0.2, random_state=42)"
      ],
      "metadata": {
        "id": "IY5tUjab3581"
      },
      "execution_count": null,
      "outputs": []
    },
    {
      "cell_type": "code",
      "source": [
        "print(X_train.shape)\n",
        "print(X_test.shape)\n",
        "print(y_train.shape)\n",
        "print(y_test.shape)"
      ],
      "metadata": {
        "id": "CbkmxafS38CA"
      },
      "execution_count": null,
      "outputs": []
    },
    {
      "cell_type": "code",
      "source": [
        "from sklearn.linear_model import LogisticRegression\n",
        "\n",
        "model_lr = LogisticRegression()\n",
        "\n",
        "model_lr.fit(X_train,y_train)"
      ],
      "metadata": {
        "id": "YywpP2T84mh9"
      },
      "execution_count": null,
      "outputs": []
    },
    {
      "cell_type": "code",
      "source": [
        "sns.scatterplot(data = df, x = 'cp', y = 'target', hue = 'target')\n",
        "plt.show()"
      ],
      "metadata": {
        "id": "sbY-iRgW-eno"
      },
      "execution_count": null,
      "outputs": []
    },
    {
      "cell_type": "code",
      "source": [
        "y_pred = model_lr.predict(X_test)\n",
        "# y_pred"
      ],
      "metadata": {
        "id": "X1bCvkMp-gO6"
      },
      "execution_count": null,
      "outputs": []
    },
    {
      "cell_type": "code",
      "source": [
        "# 5.1.2: Import model evaluation metrices\n",
        "# It will be called only when problem is of Classification\n",
        "from sklearn.metrics import accuracy_score, precision_score, recall_score, f1_score, classification_report"
      ],
      "metadata": {
        "id": "PdclFbduBx5W"
      },
      "execution_count": null,
      "outputs": []
    },
    {
      "cell_type": "code",
      "source": [
        "# 5.1.3: Import Confusion Matrix to Evaluate classificationModel\n",
        "from sklearn.metrics import confusion_matrix"
      ],
      "metadata": {
        "id": "SmRbiEDjB2Sw"
      },
      "execution_count": null,
      "outputs": []
    },
    {
      "cell_type": "code",
      "source": [
        "# Error: comparison: if Score tie\n",
        "# Type1, Type2: Type 1 Error danger ,"
      ],
      "metadata": {
        "id": "eSkp9qfrGwG4"
      },
      "execution_count": null,
      "outputs": []
    },
    {
      "cell_type": "code",
      "source": [
        "cm = confusion_matrix(y_test,y_pred)"
      ],
      "metadata": {
        "id": "_dVwPxq5GxSN"
      },
      "execution_count": null,
      "outputs": []
    },
    {
      "cell_type": "code",
      "source": [
        "plt.title('Actual vs Predicted')\n",
        "sns.heatmap(cm,annot = True,cmap='mako')\n",
        "plt.xlabel('Predicted Value')\n",
        "plt.ylabel('Actual Value')\n",
        "plt.show()"
      ],
      "metadata": {
        "id": "iuoOwrSsGyx9"
      },
      "execution_count": null,
      "outputs": []
    },
    {
      "cell_type": "code",
      "source": [
        "TN,FP,FN,TP = cm.ravel()"
      ],
      "metadata": {
        "id": "o0ojk6qiHYdq"
      },
      "execution_count": null,
      "outputs": []
    },
    {
      "cell_type": "code",
      "source": [
        "precision_score(y_test,y_pred)"
      ],
      "metadata": {
        "id": "Z8rRQ69_LJsF"
      },
      "execution_count": null,
      "outputs": []
    },
    {
      "cell_type": "code",
      "source": [
        "acs = (TN + TP)/cm.sum()\n",
        "print(acs)"
      ],
      "metadata": {
        "id": "BSnm7oRWLR9f"
      },
      "execution_count": null,
      "outputs": []
    },
    {
      "cell_type": "code",
      "source": [
        "print(accuracy_score(y_test,y_pred))"
      ],
      "metadata": {
        "id": "uWRWknYRLVGO"
      },
      "execution_count": null,
      "outputs": []
    },
    {
      "cell_type": "code",
      "source": [
        "rs = recall_score(y_test,y_pred)\n",
        "print('Recall Score is: ',rs)"
      ],
      "metadata": {
        "id": "Yd7pNX-gLXEV"
      },
      "execution_count": null,
      "outputs": []
    },
    {
      "cell_type": "code",
      "source": [
        "f1_sc = f1_score(y_test,y_pred)\n",
        "f1_sc"
      ],
      "metadata": {
        "id": "bDYFNLqvNbE5"
      },
      "execution_count": null,
      "outputs": []
    },
    {
      "cell_type": "code",
      "source": [
        "print(classification_report(y_test,y_pred))"
      ],
      "metadata": {
        "id": "8jpIIVLkPzeE"
      },
      "execution_count": null,
      "outputs": []
    },
    {
      "cell_type": "code",
      "source": [
        "#5.1.4: Checking Model Score\n",
        "# Model Score same as accuracy Score\n",
        "model_lr.score(X_test,y_test)"
      ],
      "metadata": {
        "id": "zbA62BXtP1MV"
      },
      "execution_count": null,
      "outputs": []
    },
    {
      "cell_type": "code",
      "source": [
        "from sklearn.naive_bayes import GaussianNB\n",
        "# GaussianNB only be use in case of binary classification\n",
        "# MultinomialNB: only be use in case of Multi class classification\n",
        "\n",
        "\n",
        "model_nv = GaussianNB()\n",
        "\n",
        "model_nv.fit(X_train,y_train)  # Train part/learning\n"
      ],
      "metadata": {
        "id": "Elhq3obrTLSF"
      },
      "execution_count": null,
      "outputs": []
    },
    {
      "cell_type": "code",
      "source": [
        "print('Accuracy Score: ',accuracy_score(y_test,y_pred))\n",
        "print('Precision Score: ',precision_score(y_test,y_pred))\n",
        "print('Recall Score: ',recall_score(y_test,y_pred))\n",
        "print('F1 Score: ',f1_score(y_test,y_pred))\n"
      ],
      "metadata": {
        "id": "PotJZeUzZLz7"
      },
      "execution_count": null,
      "outputs": []
    },
    {
      "cell_type": "code",
      "source": [
        "cm = confusion_matrix(y_test,y_pred)\n",
        "\n",
        "plt.title('Actual vs Predicted using Naive Bayes ML Model')\n",
        "sns.heatmap(cm,annot = True,cmap='mako')\n",
        "plt.xlabel('Predicted Value')\n",
        "plt.ylabel('Actual Value')\n",
        "plt.show()"
      ],
      "metadata": {
        "id": "259UCAY1aTBM"
      },
      "execution_count": null,
      "outputs": []
    },
    {
      "cell_type": "code",
      "source": [
        "# Model1>Y_pred>Scores>confusionMatrix>classification_report\n",
        "# Model2>Y_pred>Scores>confusionMatrix>classification_report\n",
        "# Model3>Y_pred>Scores>confusionMatrix>classification_report\n",
        "# Model4>Y_pred>Scores>confusionMatrix>classification_report\n",
        "# Model5>Y_pred>Scores>confusionMatrix>classification_report\n",
        "# Model6>Y_pred>Scores>confusionMatrix>classification_report\n",
        "# best Model Save: Error(low), Accuracy Score"
      ],
      "metadata": {
        "id": "O7ggaVNHbJVN"
      },
      "execution_count": null,
      "outputs": []
    },
    {
      "cell_type": "code",
      "source": [],
      "metadata": {
        "id": "1VhCHV1NjT8R"
      },
      "execution_count": null,
      "outputs": []
    },
    {
      "cell_type": "markdown",
      "source": [
        "# SVM"
      ],
      "metadata": {
        "id": "OHzqe3tjo7zV"
      }
    },
    {
      "cell_type": "code",
      "source": [
        "# SVM Works on Support vectos of nearest data points of different classes\n",
        "# It will create line, plane or Hyperplane\n",
        "# we can use this for both regression problems and classification(Binary/Multiclass)"
      ],
      "metadata": {
        "id": "q06ovltwo8rw"
      },
      "execution_count": null,
      "outputs": []
    },
    {
      "cell_type": "code",
      "source": [
        "from sklearn.svm import SVC\n",
        "\n",
        "model_svc = SVC()\n",
        "\n",
        "model_svc.fit(X_train,y_train)"
      ],
      "metadata": {
        "id": "3tB9lXPNo9Bm"
      },
      "execution_count": null,
      "outputs": []
    },
    {
      "cell_type": "code",
      "source": [
        "y_pred = model_svc.predict(X_test)"
      ],
      "metadata": {
        "id": "w4JdOqlbqhwB"
      },
      "execution_count": null,
      "outputs": []
    },
    {
      "cell_type": "code",
      "source": [
        "print('Accuracy Score: ',accuracy_score(y_test,y_pred))\n",
        "print('Precision Score: ',precision_score(y_test,y_pred))\n",
        "print('Recall Score: ',recall_score(y_test,y_pred))\n",
        "print('F1 Score: ',f1_score(y_test,y_pred))\n"
      ],
      "metadata": {
        "id": "cnlPkaOXurux"
      },
      "execution_count": null,
      "outputs": []
    },
    {
      "cell_type": "code",
      "source": [
        "print(classification_report(y_test,y_pred))"
      ],
      "metadata": {
        "id": "PqJPNpqbutLs"
      },
      "execution_count": null,
      "outputs": []
    },
    {
      "cell_type": "code",
      "source": [
        "cm = confusion_matrix(y_test,y_pred)\n",
        "\n",
        "plt.title('Actual vs Predicted using SVC ML Model')\n",
        "sns.heatmap(cm,annot = True,cmap='mako')\n",
        "plt.xlabel('Predicted Value')\n",
        "plt.ylabel('Actual Value')\n",
        "plt.show()"
      ],
      "metadata": {
        "id": "XBxjTnPXuxnO"
      },
      "execution_count": null,
      "outputs": []
    },
    {
      "cell_type": "code",
      "source": [
        "svm_score = accuracy_score(y_test,y_pred)"
      ],
      "metadata": {
        "id": "Yb7fFROnuyCV"
      },
      "execution_count": null,
      "outputs": []
    },
    {
      "cell_type": "code",
      "source": [
        "model_svc.score(X_test,y_test)"
      ],
      "metadata": {
        "id": "TT5eaeb_u0dy"
      },
      "execution_count": null,
      "outputs": []
    },
    {
      "cell_type": "code",
      "source": [
        "from sklearn.tree import DecisionTreeClassifier"
      ],
      "metadata": {
        "id": "fK6Cw0N2vcW2"
      },
      "execution_count": null,
      "outputs": []
    },
    {
      "cell_type": "code",
      "source": [
        "model_dt = DecisionTreeClassifier()\n",
        "\n",
        "model_dt.fit(X_train,y_train)"
      ],
      "metadata": {
        "id": "htuT1moq4db0"
      },
      "execution_count": null,
      "outputs": []
    },
    {
      "cell_type": "code",
      "source": [
        "# 5.4.2 Step Predict y_pred\n",
        "\n",
        "y_pred = model_dt.predict(X_test)"
      ],
      "metadata": {
        "id": "htyn2DB54fAA"
      },
      "execution_count": null,
      "outputs": []
    },
    {
      "cell_type": "code",
      "source": [
        "print('Accuracy Score: ',accuracy_score(y_test,y_pred))\n",
        "print('Precision Score: ',precision_score(y_test,y_pred))\n",
        "print('Recall Score: ',recall_score(y_test,y_pred))\n",
        "print('F1 Score: ',f1_score(y_test,y_pred))"
      ],
      "metadata": {
        "id": "FJdNSa9N68_w"
      },
      "execution_count": null,
      "outputs": []
    },
    {
      "cell_type": "code",
      "source": [
        "from sklearn.tree import plot_tree"
      ],
      "metadata": {
        "id": "p7wiI0pI6-Qn"
      },
      "execution_count": null,
      "outputs": []
    },
    {
      "cell_type": "code",
      "source": [
        "plt.figure(figsize=(15, 10)) # Adjust figure size for better readability\n",
        "plot_tree(model_dt,\n",
        "          feature_names=X.columns,\n",
        "          class_names=['No-0','Yes-1'],\n",
        "          filled=True, # Color nodes based on class\n",
        "          rounded=True, # Round node corners\n",
        "          fontsize=5) # Adjust font size\n",
        "\n",
        "plt.title(\"Decision Tree Visualization\")\n",
        "plt.show() # Display the plot"
      ],
      "metadata": {
        "id": "fuprsAQF7AJw"
      },
      "execution_count": null,
      "outputs": []
    },
    {
      "cell_type": "code",
      "source": [],
      "metadata": {
        "id": "GulfbXCv7Bfn"
      },
      "execution_count": null,
      "outputs": []
    },
    {
      "cell_type": "markdown",
      "source": [
        "# Step 5.5: Ensemble ML Model\n",
        "- `Bagging Technique`: Bags of Multiple ML Model, and each model give it's prediction/classification, final outcome based on majority\n",
        "- `Boosting Technique`: Next model learn from previous model and boost it minimize error to improve score"
      ],
      "metadata": {
        "id": "6oJD_w5KAz1J"
      }
    },
    {
      "cell_type": "code",
      "source": [
        "# Random Forest regression problem: Avg of Final value>> 2.2 + 2.4 + 2.5>> 2.36\n",
        "# Random Forest Classification>> Binary/Multiclass classification >> Majority Voting"
      ],
      "metadata": {
        "id": "u0q2iXH4QntJ"
      },
      "execution_count": null,
      "outputs": []
    },
    {
      "cell_type": "code",
      "source": [
        "from sklearn.ensemble import RandomForestClassifier\n",
        "\n",
        "model_rf = RandomForestClassifier(n_estimators = 200) # Parameter change Default Tree 100 to 200\n",
        "\n",
        "model_rf.fit(X_train,y_train)  # Learning"
      ],
      "metadata": {
        "id": "lvhT9najQoGV"
      },
      "execution_count": null,
      "outputs": []
    },
    {
      "cell_type": "code",
      "source": [
        "y_pred = model_rf.predict(X_test)"
      ],
      "metadata": {
        "id": "ZfaEwHZSR-zQ"
      },
      "execution_count": null,
      "outputs": []
    },
    {
      "cell_type": "code",
      "source": [
        "print('Accuracy Score: ',accuracy_score(y_test,y_pred))\n",
        "print('Precision Score: ',precision_score(y_test,y_pred))\n",
        "print('Recall Score: ',recall_score(y_test,y_pred))\n",
        "print('F1 Score: ',f1_score(y_test,y_pred))"
      ],
      "metadata": {
        "id": "8MZUDx91UHhu"
      },
      "execution_count": null,
      "outputs": []
    },
    {
      "cell_type": "code",
      "source": [
        "rf_score = accuracy_score(y_test,y_pred)\n",
        "rf_score"
      ],
      "metadata": {
        "id": "X3dOZ6TDUJEo"
      },
      "execution_count": null,
      "outputs": []
    },
    {
      "cell_type": "code",
      "source": [
        "print(classification_report(y_test,y_pred))"
      ],
      "metadata": {
        "id": "n3OatpuoUKd9"
      },
      "execution_count": null,
      "outputs": []
    },
    {
      "cell_type": "code",
      "source": [
        "cm = confusion_matrix(y_test,y_pred)\n",
        "\n",
        "plt.title('Actual vs Predicted Confusion Matrix using Random Forest Model')\n",
        "sns.heatmap(cm,annot = True,cmap='mako')\n",
        "plt.xlabel('Predicted Value')\n",
        "plt.ylabel('Actual Value')\n",
        "plt.show()"
      ],
      "metadata": {
        "id": "fpU_03-BUL6Q"
      },
      "execution_count": null,
      "outputs": []
    },
    {
      "cell_type": "code",
      "source": [],
      "metadata": {
        "id": "y9QK08YiUPDa"
      },
      "execution_count": null,
      "outputs": []
    },
    {
      "cell_type": "markdown",
      "source": [
        "### Ensemble Boosting technique: Adaboost, Gradientboost, XGboost"
      ],
      "metadata": {
        "id": "BegNgA9iXjyU"
      }
    },
    {
      "cell_type": "code",
      "source": [
        "# Adaboost: Adaptive Boosting\n",
        "# Gradientboost: GBM\n",
        "# LBM: Gradientboost: LGBM\n",
        "# XGboost: Extreme Gradient Boosting:\n",
        "# Catboost: Categorical: textual data:"
      ],
      "metadata": {
        "id": "OLIAm4LtXkJx"
      },
      "execution_count": null,
      "outputs": []
    },
    {
      "cell_type": "code",
      "source": [
        "# https://ars.els-cdn.com/content/image/1-s2.0-S1568494623000844-gr6.jpg"
      ],
      "metadata": {
        "id": "kt-QI-IiXxKm"
      },
      "execution_count": null,
      "outputs": []
    },
    {
      "cell_type": "code",
      "source": [
        "from xgboost import XGBClassifier\n",
        "\n",
        "model_xgb = XGBClassifier() # Hyperparameters: Model Fine tune  objective=\"binary:logistic\", random_state=42, learning_rate = 0.001\n",
        "model_xgb.fit(X_train,y_train)  # NONE: Hyperparameters: Model Fine tune"
      ],
      "metadata": {
        "id": "Qk8Cbz4VYBx6"
      },
      "execution_count": null,
      "outputs": []
    },
    {
      "cell_type": "code",
      "source": [
        "y_pred = model_xgb.predict(X_test)"
      ],
      "metadata": {
        "id": "-GCQ6gtjbDFQ"
      },
      "execution_count": null,
      "outputs": []
    },
    {
      "cell_type": "code",
      "source": [
        "xgb_score = accuracy_score(y_test,y_pred)\n",
        "xgb_score"
      ],
      "metadata": {
        "id": "x-oE6_RQb6Ni"
      },
      "execution_count": null,
      "outputs": []
    },
    {
      "cell_type": "code",
      "source": [
        "from sklearn.neighbors import KNeighborsClassifier"
      ],
      "metadata": {
        "id": "Qs5gv6NAb7gV"
      },
      "execution_count": null,
      "outputs": []
    },
    {
      "cell_type": "code",
      "source": [
        "model_knn = KNeighborsClassifier(n_neighbors=14) # k= 14\n",
        "\n",
        "model_knn.fit(X_train,y_train)\n"
      ],
      "metadata": {
        "id": "HgzYMt2RgJRq"
      },
      "execution_count": null,
      "outputs": []
    },
    {
      "cell_type": "code",
      "source": [
        "y_pred = model_knn.predict(X_test)"
      ],
      "metadata": {
        "id": "UebXb0wzgvQT"
      },
      "execution_count": null,
      "outputs": []
    },
    {
      "cell_type": "code",
      "source": [
        "knn_score = accuracy_score(y_test,y_pred)\n",
        "knn_score"
      ],
      "metadata": {
        "id": "r_tVV6sngxIF"
      },
      "execution_count": null,
      "outputs": []
    },
    {
      "cell_type": "code",
      "source": [
        "print(classification_report(y_test,y_pred))"
      ],
      "metadata": {
        "id": "ceNtZVaggyol"
      },
      "execution_count": null,
      "outputs": []
    },
    {
      "cell_type": "code",
      "source": [
        "# Step 5.3.4\n",
        "cm = confusion_matrix(y_test,y_pred)\n",
        "\n",
        "plt.title('Actual vs Predicted Confusion Matrix using KNN Model')\n",
        "sns.heatmap(cm,annot = True,cmap='mako')\n",
        "plt.xlabel('Predicted Value')\n",
        "plt.ylabel('Actual Value')\n",
        "plt.show()"
      ],
      "metadata": {
        "id": "d-hlCe2uhKst"
      },
      "execution_count": null,
      "outputs": []
    },
    {
      "cell_type": "code",
      "source": [],
      "metadata": {
        "id": "1A8YzztkhMvb"
      },
      "execution_count": null,
      "outputs": []
    },
    {
      "cell_type": "markdown",
      "source": [
        "# Step 5.8: Artificial Neural network using Deep learning"
      ],
      "metadata": {
        "id": "6nREwCweiNn7"
      }
    },
    {
      "cell_type": "code",
      "source": [
        "# ML works only on Limited data\n",
        "# If Input Changes ML Model fail(8 Features col: 8)"
      ],
      "metadata": {
        "id": "sLzssYSKiOS9"
      },
      "execution_count": null,
      "outputs": []
    },
    {
      "cell_type": "code",
      "source": [
        "# https://editor.analyticsvidhya.com/uploads/94912bosem.png"
      ],
      "metadata": {
        "id": "kQs9-DQtlRw1"
      },
      "execution_count": null,
      "outputs": []
    },
    {
      "cell_type": "code",
      "source": [
        "# https://media.licdn.com/dms/image/v2/D4D12AQH2F3GJ9wen_Q/article-cover_image-shrink_720_1280/article-cover_image-shrink_720_1280/0/1688885174323?e=2147483647&v=beta&t=dY_S6xeNsRCIvpIrjrPFzq8qgHPgmP4e_HLaA15ufPM"
      ],
      "metadata": {
        "id": "MJuVyj9wn-RQ"
      },
      "execution_count": null,
      "outputs": []
    },
    {
      "cell_type": "code",
      "source": [
        "from keras.models import Sequential\n",
        "from keras.layers import Dense"
      ],
      "metadata": {
        "id": "WWcPlLzqriyH"
      },
      "execution_count": null,
      "outputs": []
    },
    {
      "cell_type": "code",
      "source": [
        "model = Sequential()  # Step 1 Sequential model creation\n",
        "model.add(Dense(11,activation='relu',input_dim=13)) # Dense Layer\n",
        "model.add(Dense(1,activation='sigmoid')) # Output will be 1 Neuron for Binary\n",
        "\n",
        "model.compile(loss='binary_crossentropy',  # loss to calculate model loss\n",
        "              optimizer='adam', #optimizer to optimize model learning\n",
        "              metrics=['accuracy'])  #  metrics return accuracy score\n",
        "\n",
        "print('Done')"
      ],
      "metadata": {
        "id": "fd64yZA6o6rQ"
      },
      "execution_count": null,
      "outputs": []
    },
    {
      "cell_type": "code",
      "source": [
        "# 5.8.3 Model Training\n",
        "model.fit(X_train,y_train,epochs=300)  # iteration during retraining: epochs=300"
      ],
      "metadata": {
        "id": "JAaw4bkTuV9U"
      },
      "execution_count": null,
      "outputs": []
    },
    {
      "cell_type": "code",
      "source": [
        "# 5.8.4 pred y_value\n",
        "\n",
        "y_pred = model.predict(X_test)\n",
        "y_pred  = [round(i[0]) for i in  y_pred]\n",
        "print(y_pred)"
      ],
      "metadata": {
        "id": "77avzUwFuYCt"
      },
      "execution_count": null,
      "outputs": []
    },
    {
      "cell_type": "code",
      "source": [
        "ann_score = accuracy_score(y_test,y_pred)\n",
        "ann_score"
      ],
      "metadata": {
        "id": "XozPjv1Kuak3"
      },
      "execution_count": null,
      "outputs": []
    },
    {
      "cell_type": "code",
      "source": [
        "all_model_score  = [lr_score,nv_score,svm_score,dt_score,rf_score,xgb_score,knn_score,ann_score]\n",
        "model_name = ['Logistic','Naive','SVM','Decision Tree','Random Forest','XGB','Knn','ANN']\n",
        "\n",
        "print('Done')"
      ],
      "metadata": {
        "id": "NZggrdEEuuaW"
      },
      "execution_count": null,
      "outputs": []
    },
    {
      "cell_type": "code",
      "source": [
        "plt.figure(figsize=(12,5))\n",
        "plt.title('All Model Score Comparison')\n",
        "ax = plt.bar(x = model_name, height= all_model_score,color = sns.color_palette('mako',8))\n",
        "plt.bar_label(ax)\n",
        "plt.xlabel('Model Name')\n",
        "plt.ylabel('Score')\n",
        "plt.xticks(rotation = 45)\n",
        "plt.show()"
      ],
      "metadata": {
        "id": "sWrPag5-xiop"
      },
      "execution_count": null,
      "outputs": []
    },
    {
      "cell_type": "code",
      "source": [
        "# https://github.com/ankitmisk/Heart_Disease_Prediction_Classification_Model/blob/main/ML%20Model%20Heart%20Disease%20Prediction.ipynb"
      ],
      "metadata": {
        "id": "9DRN_obKyBoT"
      },
      "execution_count": null,
      "outputs": []
    },
    {
      "cell_type": "code",
      "source": [
        "import pickle\n",
        "with open('heart_disease_pred.pkl','wb') as f:\n",
        "    pickle.dump(model_lr,f)\n",
        "print('Done')"
      ],
      "metadata": {
        "id": "Qqj39WOOyDP0"
      },
      "execution_count": null,
      "outputs": []
    },
    {
      "cell_type": "code",
      "source": [
        "import streamlit as st\n",
        "import pandas as pd\n",
        "import numpy as np\n",
        "import pickle\n",
        "import random\n",
        "\n",
        "st.header('Heart Disease Prediction Using Machine Learning')\n",
        "\n",
        "data = '''Heart Disease Prediction using Machine Learning Heart disease prevention is critical, and data-driven prediction systems can significantly aid in early diagnosis and treatment. Machine Learning offers accurate prediction capabilities, enhancing healthcare outcomes. In this project, I analyzed a heart disease dataset with appropriate preprocessing. Multiple classification algorithms were implemented in Python using Scikit-learn and Keras to predict the presence of heart disease.\n",
        "\n",
        "Algorithms Used:\n",
        "\n",
        "**Logistic Regression**\n",
        "\n",
        "**Naive Bayes**\n",
        "\n",
        "**Support Vector Machine (Linear)**\n",
        "\n",
        "**K-Nearest Neighbors**\n",
        "\n",
        "**Decision Tree**\n",
        "\n",
        "**Random Forest**\n",
        "\n",
        "**XGBoost**\n",
        "\n",
        "**Artificial Neural Network (1 Hidden Layer, Keras)**\n",
        "'''\n",
        "\n",
        "st.markdown(data)\n",
        "\n",
        "\n",
        "st.image('https://i0.wp.com/asianheartinstitute.org/wp-content/uploads/2024/11/Understanding-How-Heart-Disease-Impacts-Your-Body.jpg?fit=1572%2C917&ssl=1')\n",
        "\n",
        "with open('heart_disease_pred.pkl','rb') as f:\n",
        "    chatgpt = pickle.load(f)\n",
        "\n",
        "# Load data\n",
        "url = '''https://github.com/ankitmisk/Heart_Disease_Prediction_ML_Model/blob/main/heart.csv?raw=true'''\n",
        "df = pd.read_csv(url)\n",
        "\n",
        "\n",
        "st.sidebar.header('Select Features to Predict Heart Disease')\n",
        "st.sidebar.image('https://humanbiomedia.org/animations/circulatory-system/cardiac-cycle/heart-beating.gif')\n",
        "\n",
        "all_values = []\n",
        "\n",
        "for i in df.iloc[:,:-1]:\n",
        "    min_value, max_value = df[i].agg(['min','max'])\n",
        "\n",
        "    var =st.sidebar.slider(f'Select {i} value', int(min_value), int(max_value),\n",
        "                      random.randint(int(min_value),int(max_value)))\n",
        "\n",
        "    all_values.append(var)\n",
        "\n",
        "final_value = [all_values]\n",
        "\n",
        "ans = chatgpt.predict(final_value)[0]\n",
        "\n",
        "import time\n",
        "random.seed(132)\n",
        "progress_bar = st.progress(0)\n",
        "placeholder = st.empty()\n",
        "placeholder.subheader('Predicting Heart Disease')\n",
        "\n",
        "place = st.empty()\n",
        "place.image('https://i.makeagif.com/media/1-17-2024/dw-jXM.gif',width = 200)\n",
        "\n",
        "for i in range(100):\n",
        "    time.sleep(0.05)\n",
        "    progress_bar.progress(i + 1)\n",
        "\n",
        "if ans == 0:\n",
        "    body = f'No Heart Disease Detected'\n",
        "    placeholder.empty()\n",
        "    place.empty()\n",
        "    st.success(body)\n",
        "    progress_bar = st.progress(0)\n",
        "else:\n",
        "    body = 'Heart Disease Found'\n",
        "    placeholder.empty()\n",
        "    place.empty()\n",
        "    st.warning(body)\n",
        "    progress_bar = st.progress(0)\n",
        "\n",
        "\n",
        "\n"
      ],
      "metadata": {
        "id": "HOHZNt0v4JaA"
      },
      "execution_count": null,
      "outputs": []
    }
  ]
}