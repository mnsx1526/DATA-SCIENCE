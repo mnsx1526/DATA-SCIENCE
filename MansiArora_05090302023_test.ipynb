{
 "cells": [
  {
   "cell_type": "code",
   "execution_count": 4,
   "id": "e3e0d6d8-9525-4ddd-93f7-82298f9b159a",
   "metadata": {},
   "outputs": [
    {
     "name": "stdout",
     "output_type": "stream",
     "text": [
      "['hello', 'namaste', 'hola']\n",
      "('one', 'two', 'three')\n"
     ]
    }
   ],
   "source": [
    "'''Q1 \n",
    "The main difference between list and tuples is that \n",
    "list is mutable and tuples are immutable\n",
    "list is enclosed in sqaure brackets ([]) and tuples are closed with in round brackets ()\n",
    "example of lists '''\n",
    "l1 = ['hello','namaste','hola']\n",
    "print(l1)\n",
    "''' example of tuples '''\n",
    "t1 = ('one','two','three')\n",
    "print(t1)"
   ]
  },
  {
   "cell_type": "code",
   "execution_count": 5,
   "id": "be99acfd-1aa7-4afd-b3c2-c3d7e8b4e86a",
   "metadata": {},
   "outputs": [
    {
     "name": "stdin",
     "output_type": "stream",
     "text": [
      "Enter a number 10\n"
     ]
    }
   ],
   "source": [
    "'''Q2  \n",
    "The input function in python is used when we allow the user to enter the data into a variable for its further use\n",
    "It can return string and integers\n",
    "using input to convert it into an integer'''\n",
    "n = int(input(\"Enter a number\"))\n",
    "print(n)"
   ]
  },
  {
   "cell_type": "code",
   "execution_count": 9,
   "id": "ef47f08d-7047-47a1-8a74-3eacf7ebc70c",
   "metadata": {},
   "outputs": [
    {
     "name": "stdout",
     "output_type": "stream",
     "text": [
      "{1: 'one', 2: 'two', 3: 'three'}\n"
     ]
    },
    {
     "data": {
      "text/plain": [
       "'two'"
      ]
     },
     "execution_count": 9,
     "metadata": {},
     "output_type": "execute_result"
    }
   ],
   "source": [
    "'''Q3 \n",
    "Dictionaries is a datatype in python which is used to store data using key value pairs\n",
    "dictionaries are stored in curly brackets ({}) and keys and values are separated using a colon (:)\n",
    "the values can be accessed using the keys of the dictionary \n",
    "examples of dictionary'''\n",
    "dict = {1:'one',2:'two',3:'three'}\n",
    "print(dict)\n",
    "#accession of a value\n",
    "dict[2]"
   ]
  },
  {
   "cell_type": "code",
   "execution_count": 14,
   "id": "aadbc8a4-528b-435e-9ac1-aeb373dc572a",
   "metadata": {},
   "outputs": [
    {
     "name": "stdout",
     "output_type": "stream",
     "text": [
      "1\n",
      "2\n",
      "3\n",
      "4\n",
      "5\n"
     ]
    }
   ],
   "source": [
    "'''Q4 \n",
    "A for loop in python is used to repeate a particular block of code without repeating the whole block of code multiple times\n",
    "example of for loop'''\n",
    "for i in range(1,6):\n",
    "    print(i)"
   ]
  },
  {
   "cell_type": "code",
   "execution_count": 17,
   "id": "4d394707-a31a-4539-82ab-f74d9b16f698",
   "metadata": {},
   "outputs": [
    {
     "name": "stdout",
     "output_type": "stream",
     "text": [
      "Error! cannot divide\n",
      "this the final\n"
     ]
    }
   ],
   "source": [
    "''' Q5\n",
    "Exception handling in python is referred to as the process of handling errors in a code by placing try, except and finally blocks\n",
    "try is placed where an error is excepected in a code\n",
    "except is proceeded by try and can not be used on its own it is used to catch the errors\n",
    "finally is a block that is place to always execute the block of code'''\n",
    "try:\n",
    "    result = 10/0\n",
    "    print(result)\n",
    "except ZeroDivisionError:\n",
    "    print('Error! cannot divide')\n",
    "finally:\n",
    "    print('this the final')\n",
    "    "
   ]
  },
  {
   "cell_type": "code",
   "execution_count": 20,
   "id": "6dc28c8e-d832-4e1c-9e0a-209ae96ee6c6",
   "metadata": {},
   "outputs": [
    {
     "data": {
      "text/plain": [
       "10.0"
      ]
     },
     "execution_count": 20,
     "metadata": {},
     "output_type": "execute_result"
    }
   ],
   "source": [
    "'''Q6\n",
    "Python modules are files which are imported by the user and can also built by the user \n",
    "these are files which contains various functions and methods which make programming easiers\n",
    "in python we have modules such as pandas, numpy, matplotlib etc\n",
    "in 'import math' we are importing the whole module where we can use all the functions of a module\n",
    "in 'from math import sqrt' we are only importing the sqrt function from math module and can only use that particular function only'''\n",
    "import math\n",
    "math.factorial(5)\n",
    "from math import sqrt\n",
    "math.sqrt(100)\n"
   ]
  },
  {
   "cell_type": "code",
   "execution_count": 22,
   "id": "05ceb48c-9f34-4398-a486-1b96777d68e6",
   "metadata": {},
   "outputs": [
    {
     "name": "stdout",
     "output_type": "stream",
     "text": [
      "lion is a carnivores animal\n"
     ]
    }
   ],
   "source": [
    "''' Q7:\n",
    "Object Oriented programming python consists of classes and objects \n",
    "in OOPS classes consists of various functions which are then used by the objects/instances\n",
    "'''\n",
    "class animals():\n",
    "    def herbivores(self):\n",
    "        print('goat is a herbivores animal')\n",
    "    def carnivores(self):\n",
    "        print('lion is a carnivores animal')\n",
    "\n",
    "an = animals()\n",
    "an.carnivores()"
   ]
  },
  {
   "cell_type": "code",
   "execution_count": null,
   "id": "d9c21975-4081-4e39-985c-5baebab2bf07",
   "metadata": {},
   "outputs": [],
   "source": [
    "''' Q8 '''\n",
    "result = [x * 2 for x in range(10) if x % 2 == 0]\n",
    "print(result)\n"
   ]
  },
  {
   "cell_type": "code",
   "execution_count": 24,
   "id": "7c475276-5dcb-472e-a4b7-245ecf888fb2",
   "metadata": {},
   "outputs": [
    {
     "name": "stdin",
     "output_type": "stream",
     "text": [
      "Enter the radius 5\n"
     ]
    },
    {
     "name": "stdout",
     "output_type": "stream",
     "text": [
      "The area of the given radius is, 78.5\n"
     ]
    }
   ],
   "source": [
    "''' Q9 '''\n",
    "def calculate_area(r):\n",
    "    a = 3.14 * (r*r)\n",
    "    print(f'The area of the given radius is, {a}')\n",
    "r=int(input('Enter the radius'))\n",
    "calculate_area(r)"
   ]
  },
  {
   "cell_type": "code",
   "execution_count": 26,
   "id": "cc12f5b1-b84d-4398-bdc3-5eef20ec2c05",
   "metadata": {},
   "outputs": [
    {
     "name": "stdin",
     "output_type": "stream",
     "text": [
      "Enter your name Mansi\n",
      "Enter your age 19\n"
     ]
    },
    {
     "name": "stdout",
     "output_type": "stream",
     "text": [
      "Hello Mansi, you are 19 years old!\n"
     ]
    }
   ],
   "source": [
    "''' Q10 '''\n",
    "def intro(*kargs):\n",
    "    n = input('Enter your name')\n",
    "    a = int(input('Enter your age'))\n",
    "    print(f\"Hello {n}, you are {a} years old!\")\n",
    "intro()"
   ]
  },
  {
   "cell_type": "code",
   "execution_count": 42,
   "id": "1cb8dc59-fcfd-430c-950a-adb58d8dc0c2",
   "metadata": {},
   "outputs": [
    {
     "name": "stdout",
     "output_type": "stream",
     "text": [
      "1 Pineapple\n",
      "2 Mango\n",
      "3 Grapes\n",
      "4 Kiwi\n",
      "5 Orange\n"
     ]
    }
   ],
   "source": [
    "''' Q11'''\n",
    "fruits = ['Pineapple','Mango','Grapes','Kiwi','Orange']\n",
    "l = len(fruits)\n",
    "for i in range(l):\n",
    "    print(i+1,fruits[i])"
   ]
  },
  {
   "cell_type": "code",
   "execution_count": 45,
   "id": "0bf42370-0242-4ceb-820b-8eb47dd007ca",
   "metadata": {},
   "outputs": [
    {
     "name": "stdin",
     "output_type": "stream",
     "text": [
      "Enter your grade 98\n"
     ]
    },
    {
     "name": "stdout",
     "output_type": "stream",
     "text": [
      "A grade\n"
     ]
    },
    {
     "name": "stdin",
     "output_type": "stream",
     "text": [
      "Enter your grade 110\n"
     ]
    },
    {
     "name": "stdout",
     "output_type": "stream",
     "text": [
      "Invalid Score\n"
     ]
    },
    {
     "name": "stdin",
     "output_type": "stream",
     "text": [
      "Enter your grade 45\n"
     ]
    },
    {
     "name": "stdout",
     "output_type": "stream",
     "text": [
      "F grade\n"
     ]
    }
   ],
   "source": [
    "''' Q12 '''\n",
    "def grade_calculator(*kwargs):\n",
    "    m= int(input('Enter your grade'))\n",
    "    if (m>=90) and (m<=100):\n",
    "        print('A grade')\n",
    "    elif (m>=80) and (m<=89):\n",
    "        print('B grade')\n",
    "    elif (m>=70) and (m<=79):\n",
    "        print('C grade')\n",
    "    elif (m>=60) and (m<=69):\n",
    "        print('D grade')\n",
    "    elif (m<=60):\n",
    "        print('F grade')\n",
    "    else:\n",
    "        print('Invalid Score')\n",
    "for i in range(3):\n",
    "    grade_calculator()"
   ]
  },
  {
   "cell_type": "code",
   "execution_count": 59,
   "id": "ac538795-80ef-4769-9ca3-1efa9fc53dab",
   "metadata": {},
   "outputs": [
    {
     "name": "stdout",
     "output_type": "stream",
     "text": [
      "Account holder Name = Mansi Arora\n",
      "Starting balance = 50000\n"
     ]
    },
    {
     "ename": "NameError",
     "evalue": "name 'new_bal' is not defined",
     "output_type": "error",
     "traceback": [
      "\u001b[1;31m---------------------------------------------------------------------------\u001b[0m",
      "\u001b[1;31mNameError\u001b[0m                                 Traceback (most recent call last)",
      "Cell \u001b[1;32mIn[59], line 25\u001b[0m\n\u001b[0;32m     22\u001b[0m         \u001b[38;5;28mprint\u001b[39m(\u001b[38;5;124mf\u001b[39m\u001b[38;5;124m'\u001b[39m\u001b[38;5;124mThe current balance is \u001b[39m\u001b[38;5;132;01m{\u001b[39;00mnew_bal\u001b[38;5;132;01m}\u001b[39;00m\u001b[38;5;124m'\u001b[39m)\n\u001b[0;32m     24\u001b[0m user \u001b[38;5;241m=\u001b[39m BankAccount()\n\u001b[1;32m---> 25\u001b[0m user\u001b[38;5;241m.\u001b[39mcurrent_balance()\n",
      "Cell \u001b[1;32mIn[59], line 22\u001b[0m, in \u001b[0;36mBankAccount.current_balance\u001b[1;34m(self)\u001b[0m\n\u001b[0;32m     21\u001b[0m \u001b[38;5;28;01mdef\u001b[39;00m\u001b[38;5;250m \u001b[39m\u001b[38;5;21mcurrent_balance\u001b[39m(\u001b[38;5;28mself\u001b[39m):\n\u001b[1;32m---> 22\u001b[0m     \u001b[38;5;28mprint\u001b[39m(\u001b[38;5;124mf\u001b[39m\u001b[38;5;124m'\u001b[39m\u001b[38;5;124mThe current balance is \u001b[39m\u001b[38;5;132;01m{\u001b[39;00mnew_bal\u001b[38;5;132;01m}\u001b[39;00m\u001b[38;5;124m'\u001b[39m)\n",
      "\u001b[1;31mNameError\u001b[0m: name 'new_bal' is not defined"
     ]
    }
   ],
   "source": [
    "''' Q14 '''\n",
    "class BankAccount:\n",
    "    def __init__(self):\n",
    "        print(\"Account holder Name = Mansi Arora\")\n",
    "        bal = 50000\n",
    "        print(\"Starting balance =\", bal)\n",
    "\n",
    "    def deposit_money(self):\n",
    "        d= int(input(\"Enter the amount to be deposited\"))\n",
    "        new_bal = d+bal\n",
    "        print(f\"New balance is {new_bal}\")\n",
    "        \n",
    "    def withdraw_money(self):\n",
    "        bal = 50000\n",
    "        if bal>=20000:\n",
    "            print(\"You can withdraw money\")\n",
    "        w = int(input(\"How much do you wish to withdraw\"))\n",
    "        print(f\"{w} withdrawn succesfully\")\n",
    "        new_bal = new_bal-w\n",
    "\n",
    "    def current_balance(self):\n",
    "        print(f'The current balance is {new_bal}')\n",
    "\n",
    "user = BankAccount()\n",
    "user.current_balance()\n"
   ]
  },
  {
   "cell_type": "code",
   "execution_count": 64,
   "id": "f8ac1b9a-64f0-4477-998e-936f7bc8c1c4",
   "metadata": {},
   "outputs": [
    {
     "name": "stdout",
     "output_type": "stream",
     "text": [
      "not prime\n",
      "2\n",
      "3\n",
      "not prime\n",
      "5\n",
      "not prime\n",
      "7\n",
      "not prime\n",
      "not prime\n",
      "not prime\n",
      "11\n",
      "not prime\n",
      "13\n",
      "not prime\n",
      "not prime\n",
      "not prime\n",
      "17\n",
      "not prime\n",
      "19\n",
      "not prime\n",
      "not prime\n",
      "not prime\n",
      "23\n",
      "not prime\n",
      "not prime\n",
      "not prime\n",
      "not prime\n",
      "not prime\n",
      "29\n",
      "not prime\n",
      "31\n",
      "not prime\n",
      "not prime\n",
      "not prime\n",
      "not prime\n",
      "not prime\n",
      "37\n",
      "not prime\n",
      "not prime\n",
      "not prime\n",
      "41\n",
      "not prime\n",
      "43\n",
      "not prime\n",
      "not prime\n",
      "not prime\n",
      "47\n",
      "not prime\n",
      "not prime\n",
      "not prime\n"
     ]
    }
   ],
   "source": [
    "''' Q15'''\n",
    "for i in range(1, 51):\n",
    "    if i < 2:\n",
    "        print('not prime')\n",
    "    else:\n",
    "        for j in range(2, int(i/2) + 1):\n",
    "            if i % j == 0:\n",
    "                print('not prime')\n",
    "                break\n",
    "        else:\n",
    "            print(i)\n"
   ]
  },
  {
   "cell_type": "code",
   "execution_count": null,
   "id": "38707b35-9898-4a6e-a804-21318208363a",
   "metadata": {},
   "outputs": [],
   "source": []
  }
 ],
 "metadata": {
  "kernelspec": {
   "display_name": "Python 3 (ipykernel)",
   "language": "python",
   "name": "python3"
  },
  "language_info": {
   "codemirror_mode": {
    "name": "ipython",
    "version": 3
   },
   "file_extension": ".py",
   "mimetype": "text/x-python",
   "name": "python",
   "nbconvert_exporter": "python",
   "pygments_lexer": "ipython3",
   "version": "3.13.5"
  }
 },
 "nbformat": 4,
 "nbformat_minor": 5
}
