{
 "cells": [
  {
   "cell_type": "code",
   "execution_count": 1,
   "id": "f4f1435a-ed06-47a5-a16f-7521df757e6c",
   "metadata": {},
   "outputs": [],
   "source": [
    "def check_palindrome(word):\n",
    "    return word"
   ]
  },
  {
   "cell_type": "code",
   "execution_count": 2,
   "id": "b6f21fa5-753a-4a3a-a62f-e389409b3980",
   "metadata": {},
   "outputs": [
    {
     "data": {
      "text/plain": [
       "'ajay'"
      ]
     },
     "execution_count": 2,
     "metadata": {},
     "output_type": "execute_result"
    }
   ],
   "source": [
    "check_palindrome('ajay')"
   ]
  },
  {
   "cell_type": "code",
   "execution_count": 3,
   "id": "04eb78b3-4a36-48d4-a746-34f5970b7a83",
   "metadata": {},
   "outputs": [
    {
     "ename": "TypeError",
     "evalue": "slice indices must be integers or None or have an __index__ method",
     "output_type": "error",
     "traceback": [
      "\u001b[1;31m---------------------------------------------------------------------------\u001b[0m",
      "\u001b[1;31mTypeError\u001b[0m                                 Traceback (most recent call last)",
      "Cell \u001b[1;32mIn[3], line 2\u001b[0m\n\u001b[0;32m      1\u001b[0m a \u001b[38;5;241m=\u001b[39m \u001b[38;5;124m'\u001b[39m\u001b[38;5;124mlucky\u001b[39m\u001b[38;5;124m'\u001b[39m\n\u001b[1;32m----> 2\u001b[0m a [a::\u001b[38;5;241m-\u001b[39m\u001b[38;5;241m1\u001b[39m]\n",
      "\u001b[1;31mTypeError\u001b[0m: slice indices must be integers or None or have an __index__ method"
     ]
    }
   ],
   "source": [
    "a = 'lucky'\n",
    "a [a::-1]"
   ]
  },
  {
   "cell_type": "code",
   "execution_count": 4,
   "id": "250f90d8-e30b-4d54-a54c-d09bc3c1652f",
   "metadata": {},
   "outputs": [
    {
     "name": "stdout",
     "output_type": "stream",
     "text": [
      "nitin is a palindrome\n"
     ]
    }
   ],
   "source": [
    "a='nitin'\n",
    "if a ==a[::-1]:\n",
    "    print(f'{a} is a palindrome')\n",
    "else:\n",
    "    print(f'{a} is not a Palindrome')"
   ]
  },
  {
   "cell_type": "code",
   "execution_count": 5,
   "id": "0beadaa9-7145-4adc-9f80-a751dc76cafb",
   "metadata": {},
   "outputs": [],
   "source": [
    "def check_palindrome(word):\n",
    "    return word\n",
    "    "
   ]
  },
  {
   "cell_type": "code",
   "execution_count": 6,
   "id": "601ab908-9306-46af-8278-a0fd9831681a",
   "metadata": {},
   "outputs": [
    {
     "name": "stdout",
     "output_type": "stream",
     "text": [
      "raj Not a Palindrome\n"
     ]
    }
   ],
   "source": [
    "a='raj'\n",
    "if a==a[::-1]:\n",
    "    print(f'{a} Palindrome')\n",
    "else:\n",
    "    print(f'{a} Not a Palindrome')\n",
    "    "
   ]
  },
  {
   "cell_type": "code",
   "execution_count": 7,
   "id": "f014b23e-6def-4390-abe1-974ca5cecc31",
   "metadata": {},
   "outputs": [],
   "source": [
    "def check_palindrome(word:str):\n",
    "  if type(word) == str:\n",
    "    word = word.upper()\n",
    "    if word == word[::-1]:\n",
    "      return 'Palindrome'\n",
    "    else:\n",
    "      return 'Not a Plaindrome'\n",
    "  else:\n",
    "    return 'Invalid Data Type'"
   ]
  },
  {
   "cell_type": "code",
   "execution_count": 8,
   "id": "6d74bd9b-ae56-4699-a722-c04df63fd709",
   "metadata": {},
   "outputs": [
    {
     "data": {
      "text/plain": [
       "'Palindrome'"
      ]
     },
     "execution_count": 8,
     "metadata": {},
     "output_type": "execute_result"
    }
   ],
   "source": [
    "check_palindrome('121')"
   ]
  },
  {
   "cell_type": "code",
   "execution_count": 9,
   "id": "4bfab13f-3d57-4e59-ab6f-78d0ea11cef7",
   "metadata": {},
   "outputs": [],
   "source": [
    "def give_fibo(n):\n",
    "    fibo=[0,1]\n",
    "    for i in range(n-2):\n",
    "        last_num=fibo[-1]\n",
    "        second_last_num=fibo[-2]\n",
    "        next_num=last_num+second_last_num\n",
    "        fibo.append (next_num)\n",
    "    return fibo"
   ]
  },
  {
   "cell_type": "code",
   "execution_count": 10,
   "id": "3b3e66ba-1057-480c-8d4e-53ed850c541b",
   "metadata": {},
   "outputs": [
    {
     "name": "stdout",
     "output_type": "stream",
     "text": [
      "[0, 1, 1, 2, 3, 5, 8]\n"
     ]
    }
   ],
   "source": [
    "print(give_fibo(7))"
   ]
  },
  {
   "cell_type": "code",
   "execution_count": 11,
   "id": "fee8e795-187b-46aa-b6b0-251427c05684",
   "metadata": {},
   "outputs": [],
   "source": [
    "def check_prime(number):\n",
    "    for i in range(2,number):\n",
    "        if number % i-0:\n",
    "            return 'not a prime number'\n",
    "            break\n",
    "            print('happy holi')\n",
    "        else:\n",
    "            return'prime number'"
   ]
  },
  {
   "cell_type": "code",
   "execution_count": 12,
   "id": "900a6bc2-be96-4d24-a231-111418d1ca86",
   "metadata": {},
   "outputs": [],
   "source": [
    "check_prime(2)"
   ]
  },
  {
   "cell_type": "code",
   "execution_count": 13,
   "id": "9daf5d84-35fc-42c3-9f29-247195522714",
   "metadata": {},
   "outputs": [
    {
     "name": "stdout",
     "output_type": "stream",
     "text": [
      " hello  hello  hello  hello  hello \n"
     ]
    }
   ],
   "source": [
    "n=5\n",
    "\n",
    "\n",
    "print(' hello '*n)"
   ]
  },
  {
   "cell_type": "code",
   "execution_count": 14,
   "id": "e76c0f95-9825-4448-9bec-e8e156b1c118",
   "metadata": {},
   "outputs": [
    {
     "name": "stdout",
     "output_type": "stream",
     "text": [
      "*\n",
      "**\n",
      "***\n",
      "****\n",
      "*****\n",
      "******\n",
      "*******\n",
      "********\n",
      "*********\n"
     ]
    }
   ],
   "source": [
    "n=9\n",
    "for i in range(1,n+1):\n",
    "   print(i*'*')"
   ]
  },
  {
   "cell_type": "code",
   "execution_count": 15,
   "id": "cf95d495-f9ee-4825-abce-02324737c2d1",
   "metadata": {},
   "outputs": [
    {
     "name": "stdout",
     "output_type": "stream",
     "text": [
      "                  lol \n",
      "                lol lol \n",
      "              lol lol lol \n",
      "            lol lol lol lol \n",
      "          lol lol lol lol lol \n",
      "        lol lol lol lol lol lol \n",
      "      lol lol lol lol lol lol lol \n",
      "    lol lol lol lol lol lol lol lol \n",
      "  lol lol lol lol lol lol lol lol lol \n",
      "lol lol lol lol lol lol lol lol lol lol \n"
     ]
    }
   ],
   "source": [
    "n=10\n",
    "for i in range(1,n+1):\n",
    "        print('  '*(n-i)+i*'lol ')"
   ]
  },
  {
   "cell_type": "code",
   "execution_count": 16,
   "id": "890cf2a7-375e-4aaa-bcfb-a5f938581a43",
   "metadata": {},
   "outputs": [],
   "source": [
    "def print_star(n=5,typ='left',shape=' *'):\n",
    "    if typ=='left':\n",
    "        space=''\n",
    "    elif typ == 'right':\n",
    "        space=' '\n",
    "    elif typ =='mid':\n",
    "        space=' '\n",
    "\n",
    "    for i in range(1,n+1):\n",
    "            print(space*(n-i)+i*f'{shape }')"
   ]
  },
  {
   "cell_type": "code",
   "execution_count": 17,
   "id": "d524814b-e452-4034-91d2-16b58983ffd8",
   "metadata": {},
   "outputs": [
    {
     "name": "stdout",
     "output_type": "stream",
     "text": [
      " *\n",
      " * *\n",
      " * * *\n",
      " * * * *\n",
      " * * * * *\n",
      " * * * * * *\n"
     ]
    }
   ],
   "source": [
    "print_star(6,'left')"
   ]
  },
  {
   "cell_type": "code",
   "execution_count": 18,
   "id": "b7892dec-abbd-4488-a34f-e558080a5800",
   "metadata": {},
   "outputs": [],
   "source": [
    "\n",
    "def sum_of_n_natural_numbers():\n",
    "    result=0\n",
    "    for i in range(1,n+1):\n",
    "        result += i\n",
    "        return result\n",
    "        "
   ]
  },
  {
   "cell_type": "code",
   "execution_count": 19,
   "id": "26925d32-72d3-4697-a92b-ac1aae8024a9",
   "metadata": {},
   "outputs": [
    {
     "ename": "TypeError",
     "evalue": "sum_of_n_natural_numbers() takes 0 positional arguments but 1 was given",
     "output_type": "error",
     "traceback": [
      "\u001b[1;31m---------------------------------------------------------------------------\u001b[0m",
      "\u001b[1;31mTypeError\u001b[0m                                 Traceback (most recent call last)",
      "Cell \u001b[1;32mIn[19], line 1\u001b[0m\n\u001b[1;32m----> 1\u001b[0m sum_of_n_natural_numbers(\u001b[38;5;241m10\u001b[39m)\n",
      "\u001b[1;31mTypeError\u001b[0m: sum_of_n_natural_numbers() takes 0 positional arguments but 1 was given"
     ]
    }
   ],
   "source": [
    "sum_of_n_natural_numbers(10)"
   ]
  },
  {
   "cell_type": "code",
   "execution_count": 20,
   "id": "dbf2e9b1-51b6-4cbe-ab27-49ffeca1d317",
   "metadata": {},
   "outputs": [],
   "source": [
    "def total_sales(*args):\n",
    "    #unpacing\n",
    "    result=0\n",
    "    for i in args:\n",
    "        result +=i\n",
    "    return result\n",
    "        "
   ]
  },
  {
   "cell_type": "code",
   "execution_count": 21,
   "id": "b4b7804a-c1e3-4fac-8d5c-58add40d1b32",
   "metadata": {},
   "outputs": [
    {
     "name": "stdout",
     "output_type": "stream",
     "text": [
      "77\n"
     ]
    }
   ],
   "source": [
    "sales=[1,2,3,4,69,7,77]\n",
    "max_element=sales[0]\n",
    "for i in sales[1:]:\n",
    "    if max_element<i:\n",
    "        max_element=i\n",
    "print(max_element)\n"
   ]
  },
  {
   "cell_type": "code",
   "execution_count": 22,
   "id": "7c805cc5-bfe0-493e-843c-8e8a2ea6ea3b",
   "metadata": {},
   "outputs": [
    {
     "name": "stdout",
     "output_type": "stream",
     "text": [
      "9\n"
     ]
    }
   ],
   "source": [
    "sales=[435,456,890,675,9]\n",
    "\n",
    "#min(sales)\n",
    "min_element=sales[0]\n",
    "for i in sales[1:]:\n",
    "    if i<min_element:\n",
    "             min_element=i\n",
    "print(min_element)\n",
    "\n"
   ]
  },
  {
   "cell_type": "code",
   "execution_count": 23,
   "id": "bc9f1bc8-5c74-475e-8286-33dd5bff128c",
   "metadata": {},
   "outputs": [],
   "source": [
    "company = ['ola','uber','rapido','indrive','adani','tata']\n",
    "\n",
    "# ['#OLA','#UBER','#RAPIDO']\n",
    "\n",
    "\n",
    "\n",
    "def add_hashtag(*company):\n",
    "  result = []\n",
    "  for i in company:\n",
    "    result.append('#'+i.upper())\n",
    "  return result\n"
   ]
  },
  {
   "cell_type": "code",
   "execution_count": 24,
   "id": "dcf412f1-e158-4c72-915e-0b1603bf9869",
   "metadata": {},
   "outputs": [
    {
     "data": {
      "text/plain": [
       "['#OLA', '#UBER']"
      ]
     },
     "execution_count": 24,
     "metadata": {},
     "output_type": "execute_result"
    }
   ],
   "source": [
    "add_hashtag('ola','uber')"
   ]
  },
  {
   "cell_type": "code",
   "execution_count": 25,
   "id": "bc254a8a-aaad-4c2d-af64-9f23f663e5d6",
   "metadata": {},
   "outputs": [],
   "source": [
    "\n",
    "def add(*num):\n",
    "    result = 0\n",
    "    for i in num:\n",
    "        result += i\n",
    "    return result"
   ]
  },
  {
   "cell_type": "code",
   "execution_count": 26,
   "id": "cc023f07-c9a5-4f5b-a236-3a86c7fb2d2f",
   "metadata": {},
   "outputs": [
    {
     "data": {
      "text/plain": [
       "9661"
      ]
     },
     "execution_count": 26,
     "metadata": {},
     "output_type": "execute_result"
    }
   ],
   "source": [
    "add(12,56,67,98,7676,876,876)"
   ]
  },
  {
   "cell_type": "code",
   "execution_count": 27,
   "id": "fa6f825a-3c5f-426d-963f-4208ff43d120",
   "metadata": {},
   "outputs": [],
   "source": [
    "company = ['ola','uber','rapido','indrive','adani','tata']\n",
    "\n",
    "# ['#OLA','#UBER','#RAPIDO']\n",
    "\n",
    "\n",
    "\n",
    "def add_hashtag(*company):\n",
    "  result = []\n",
    "  for i in company:\n",
    "    result.append('#'+i.upper())\n",
    "  return result\n"
   ]
  },
  {
   "cell_type": "code",
   "execution_count": 28,
   "id": "20322038-69a5-4030-bb3a-b9f98aedc192",
   "metadata": {},
   "outputs": [],
   "source": [
    "def store_records(name,age,sec,roll_no,Class):\n",
    "  data = {'Name':name,'Age':age,'Sec':sec,'Roll_NO':roll_no,'Class':Class}\n",
    "  import pandas as pd\n",
    "  result = pd.DataFrame(data,index = [0])\n",
    "  return result"
   ]
  },
  {
   "cell_type": "code",
   "execution_count": 29,
   "id": "295bb62c-9a2e-4f0e-a0ba-4cbdb14d4916",
   "metadata": {},
   "outputs": [
    {
     "data": {
      "text/html": [
       "<div>\n",
       "<style scoped>\n",
       "    .dataframe tbody tr th:only-of-type {\n",
       "        vertical-align: middle;\n",
       "    }\n",
       "\n",
       "    .dataframe tbody tr th {\n",
       "        vertical-align: top;\n",
       "    }\n",
       "\n",
       "    .dataframe thead th {\n",
       "        text-align: right;\n",
       "    }\n",
       "</style>\n",
       "<table border=\"1\" class=\"dataframe\">\n",
       "  <thead>\n",
       "    <tr style=\"text-align: right;\">\n",
       "      <th></th>\n",
       "      <th>Name</th>\n",
       "      <th>Age</th>\n",
       "      <th>Sec</th>\n",
       "      <th>Roll_NO</th>\n",
       "      <th>Class</th>\n",
       "    </tr>\n",
       "  </thead>\n",
       "  <tbody>\n",
       "    <tr>\n",
       "      <th>0</th>\n",
       "      <td>Naman</td>\n",
       "      <td>21</td>\n",
       "      <td>A</td>\n",
       "      <td>12</td>\n",
       "      <td>12</td>\n",
       "    </tr>\n",
       "  </tbody>\n",
       "</table>\n",
       "</div>"
      ],
      "text/plain": [
       "    Name  Age Sec  Roll_NO  Class\n",
       "0  Naman   21   A       12     12"
      ]
     },
     "execution_count": 29,
     "metadata": {},
     "output_type": "execute_result"
    }
   ],
   "source": [
    "store_records('Mohan',21,'A',12,12)\n",
    "store_records('Karan',21,'A',12,12)\n",
    "store_records('Naman',21,'A',12,12)\n"
   ]
  },
  {
   "cell_type": "code",
   "execution_count": 30,
   "id": "878a0dc9-3142-40cb-a527-9f09208ae0e5",
   "metadata": {},
   "outputs": [],
   "source": [
    "def students_records(**kwargs):\n",
    "    # print(kwargs)\n",
    "    # try exception\n",
    "    import pandas as pd\n",
    "    try:\n",
    "        result = pd.DataFrame(kwargs)\n",
    "        return result\n",
    "    except:\n",
    "        result = pd.DataFrame(kwargs,index = [1])\n",
    "        return result"
   ]
  },
  {
   "cell_type": "code",
   "execution_count": 31,
   "id": "e81a5126-454b-41fe-90f7-4c09c76964ab",
   "metadata": {},
   "outputs": [
    {
     "data": {
      "text/html": [
       "<div>\n",
       "<style scoped>\n",
       "    .dataframe tbody tr th:only-of-type {\n",
       "        vertical-align: middle;\n",
       "    }\n",
       "\n",
       "    .dataframe tbody tr th {\n",
       "        vertical-align: top;\n",
       "    }\n",
       "\n",
       "    .dataframe thead th {\n",
       "        text-align: right;\n",
       "    }\n",
       "</style>\n",
       "<table border=\"1\" class=\"dataframe\">\n",
       "  <thead>\n",
       "    <tr style=\"text-align: right;\">\n",
       "      <th></th>\n",
       "      <th>Name</th>\n",
       "      <th>Age</th>\n",
       "      <th>Roll_No</th>\n",
       "      <th>Address</th>\n",
       "    </tr>\n",
       "  </thead>\n",
       "  <tbody>\n",
       "    <tr>\n",
       "      <th>0</th>\n",
       "      <td>Komal</td>\n",
       "      <td>23</td>\n",
       "      <td>23</td>\n",
       "      <td>Noida</td>\n",
       "    </tr>\n",
       "    <tr>\n",
       "      <th>1</th>\n",
       "      <td>Mohan</td>\n",
       "      <td>45</td>\n",
       "      <td>32</td>\n",
       "      <td>Delhi</td>\n",
       "    </tr>\n",
       "    <tr>\n",
       "      <th>2</th>\n",
       "      <td>Ajay</td>\n",
       "      <td>56</td>\n",
       "      <td>67</td>\n",
       "      <td>Greater Noida</td>\n",
       "    </tr>\n",
       "  </tbody>\n",
       "</table>\n",
       "</div>"
      ],
      "text/plain": [
       "    Name  Age  Roll_No        Address\n",
       "0  Komal   23       23          Noida\n",
       "1  Mohan   45       32          Delhi\n",
       "2   Ajay   56       67  Greater Noida"
      ]
     },
     "execution_count": 31,
     "metadata": {},
     "output_type": "execute_result"
    }
   ],
   "source": [
    "students_records(Name = ['Komal','Mohan','Ajay'],\n",
    "                 Age = [23,45,56],\n",
    "                 Roll_No = [23,32,67],\n",
    "                 Address = ['Noida','Delhi','Greater Noida'])"
   ]
  },
  {
   "cell_type": "code",
   "execution_count": 32,
   "id": "09efd66d-1e4a-417c-8569-530402ea0c98",
   "metadata": {},
   "outputs": [],
   "source": [
    "def sound_box(paisa,platform = 'Paytm'):\n",
    "    text  = f'''{platform} par {paisa} rs Prapt hue.'''\n",
    "    audio = gTTS(text)\n",
    "    audio.save('paytm.mp3')\n",
    "\n",
    "    import pygame as p\n",
    "    p.init()\n",
    "\n",
    "    music = p.mixer.Sound('paytm.mp3')\n",
    "    music.play()"
   ]
  },
  {
   "cell_type": "code",
   "execution_count": null,
   "id": "e5f7fe96-c9c8-4b54-b3f6-79faa130646c",
   "metadata": {},
   "outputs": [],
   "source": []
  }
 ],
 "metadata": {
  "kernelspec": {
   "display_name": "Python [conda env:base] *",
   "language": "python",
   "name": "conda-base-py"
  },
  "language_info": {
   "codemirror_mode": {
    "name": "ipython",
    "version": 3
   },
   "file_extension": ".py",
   "mimetype": "text/x-python",
   "name": "python",
   "nbconvert_exporter": "python",
   "pygments_lexer": "ipython3",
   "version": "3.13.5"
  }
 },
 "nbformat": 4,
 "nbformat_minor": 5
}
