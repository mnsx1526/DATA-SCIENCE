{
 "cells": [
  {
   "cell_type": "code",
   "execution_count": 1,
   "id": "20a41652-c0e4-4414-b575-6fe73fe5ae69",
   "metadata": {},
   "outputs": [
    {
     "name": "stdout",
     "output_type": "stream",
     "text": [
      "invalid code\n"
     ]
    }
   ],
   "source": [
    "age='23'\n",
    "try:\n",
    "    #print(1/0)\n",
    "    print(vari)\n",
    "    if age>=18:\n",
    "        print('can vote')\n",
    "    else:\n",
    "        print('can\\'t vote')\n",
    "except TypeError:\n",
    "    print('something went wrong')\n",
    "    print('Invalid datatype comparison')\n",
    "except:\n",
    "    print('invalid code')\n",
    "    "
   ]
  },
  {
   "cell_type": "code",
   "execution_count": 2,
   "id": "23bab0af-5eca-4385-a3c2-f09374bd151d",
   "metadata": {},
   "outputs": [],
   "source": [
    "def student_records(**kwargs):\n",
    "  import pandas as pd\n",
    "  try:\n",
    "    data = pd.DataFrame(kwargs)\n",
    "    return data\n",
    "  except:\n",
    "    data = pd.DataFrame(kwargs,index = [1])\n",
    "    return data"
   ]
  },
  {
   "cell_type": "code",
   "execution_count": 3,
   "id": "41869ba8-0204-4d7d-98e6-b015772c1f6c",
   "metadata": {},
   "outputs": [
    {
     "data": {
      "text/html": [
       "<div>\n",
       "<style scoped>\n",
       "    .dataframe tbody tr th:only-of-type {\n",
       "        vertical-align: middle;\n",
       "    }\n",
       "\n",
       "    .dataframe tbody tr th {\n",
       "        vertical-align: top;\n",
       "    }\n",
       "\n",
       "    .dataframe thead th {\n",
       "        text-align: right;\n",
       "    }\n",
       "</style>\n",
       "<table border=\"1\" class=\"dataframe\">\n",
       "  <thead>\n",
       "    <tr style=\"text-align: right;\">\n",
       "      <th></th>\n",
       "      <th>Name</th>\n",
       "      <th>Age</th>\n",
       "      <th>address</th>\n",
       "      <th>Sec</th>\n",
       "    </tr>\n",
       "  </thead>\n",
       "  <tbody>\n",
       "    <tr>\n",
       "      <th>0</th>\n",
       "      <td>ajay</td>\n",
       "      <td>18</td>\n",
       "      <td>noida</td>\n",
       "      <td>a</td>\n",
       "    </tr>\n",
       "    <tr>\n",
       "      <th>1</th>\n",
       "      <td>karan</td>\n",
       "      <td>20</td>\n",
       "      <td>faridabad</td>\n",
       "      <td>b</td>\n",
       "    </tr>\n",
       "    <tr>\n",
       "      <th>2</th>\n",
       "      <td>Mohan</td>\n",
       "      <td>21</td>\n",
       "      <td>delhi</td>\n",
       "      <td>c</td>\n",
       "    </tr>\n",
       "  </tbody>\n",
       "</table>\n",
       "</div>"
      ],
      "text/plain": [
       "    Name  Age    address Sec\n",
       "0   ajay   18      noida   a\n",
       "1  karan   20  faridabad   b\n",
       "2  Mohan   21      delhi   c"
      ]
     },
     "execution_count": 3,
     "metadata": {},
     "output_type": "execute_result"
    }
   ],
   "source": [
    "student_records(Name=['ajay','karan','Mohan'],\n",
    "                Age=[18,20,21],\n",
    "                address=['noida','faridabad','delhi'],\n",
    "               Sec=list('abc'))\n"
   ]
  },
  {
   "cell_type": "code",
   "execution_count": 4,
   "id": "a816c9ac-b8f0-48e1-97ca-b9a973457d01",
   "metadata": {},
   "outputs": [],
   "source": [
    "def show_time():\n",
    "    try:\n",
    "        while True:\n",
    "            import time\n",
    "            print(time.asctime())\n",
    "            time.sleep(1)\n",
    "            display(clear = True)\n",
    "    except:\n",
    "            print('timer has been stopped')\n"
   ]
  },
  {
   "cell_type": "code",
   "execution_count": 7,
   "id": "c048fbbf-51cc-44d9-894a-809cc93b96ce",
   "metadata": {},
   "outputs": [
    {
     "name": "stdout",
     "output_type": "stream",
     "text": [
      "This is Mansi Module in Python\n",
      "Info: https://www.google.com/\n",
      "done\n"
     ]
    }
   ],
   "source": [
    "import mansi as m\n",
    "print('done')"
   ]
  },
  {
   "cell_type": "code",
   "execution_count": 8,
   "id": "06991479-dbc2-463c-b0ce-8b21048d1205",
   "metadata": {},
   "outputs": [
    {
     "name": "stdout",
     "output_type": "stream",
     "text": [
      "            * \n",
      "          * * \n",
      "        * * * \n",
      "      * * * * \n",
      "    * * * * * \n",
      "  * * * * * * \n",
      "* * * * * * * \n"
     ]
    }
   ],
   "source": [
    "m.print_star(n=7,typ='right',shape='*')"
   ]
  },
  {
   "cell_type": "code",
   "execution_count": 9,
   "id": "57ddd59d-07dc-46cc-9f2e-f6a2e3489e30",
   "metadata": {},
   "outputs": [
    {
     "ename": "ModuleNotFoundError",
     "evalue": "No module named 'gtts'",
     "output_type": "error",
     "traceback": [
      "\u001b[1;31m---------------------------------------------------------------------------\u001b[0m",
      "\u001b[1;31mModuleNotFoundError\u001b[0m                       Traceback (most recent call last)",
      "Cell \u001b[1;32mIn[9], line 1\u001b[0m\n\u001b[1;32m----> 1\u001b[0m m\u001b[38;5;241m.\u001b[39msound_box(\u001b[38;5;241m100\u001b[39m)\n",
      "File \u001b[1;32m~\\mansi.py:101\u001b[0m, in \u001b[0;36msound_box\u001b[1;34m(paisa, platform)\u001b[0m\n\u001b[0;32m    100\u001b[0m \u001b[38;5;28;01mdef\u001b[39;00m\u001b[38;5;250m \u001b[39m\u001b[38;5;21msound_box\u001b[39m(paisa,platform \u001b[38;5;241m=\u001b[39m \u001b[38;5;124m'\u001b[39m\u001b[38;5;124mPaytm\u001b[39m\u001b[38;5;124m'\u001b[39m):\n\u001b[1;32m--> 101\u001b[0m     \u001b[38;5;28;01mfrom\u001b[39;00m\u001b[38;5;250m \u001b[39m\u001b[38;5;21;01mgtts\u001b[39;00m\u001b[38;5;250m \u001b[39m\u001b[38;5;28;01mimport\u001b[39;00m gTTS\n\u001b[0;32m    102\u001b[0m     text  \u001b[38;5;241m=\u001b[39m \u001b[38;5;124mf\u001b[39m\u001b[38;5;124m'''\u001b[39m\u001b[38;5;132;01m{\u001b[39;00mplatform\u001b[38;5;132;01m}\u001b[39;00m\u001b[38;5;124m par \u001b[39m\u001b[38;5;132;01m{\u001b[39;00mpaisa\u001b[38;5;132;01m}\u001b[39;00m\u001b[38;5;124m rs Prapt hue.\u001b[39m\u001b[38;5;124m'''\u001b[39m\n\u001b[0;32m    103\u001b[0m     audio \u001b[38;5;241m=\u001b[39m gTTS(text)\n",
      "\u001b[1;31mModuleNotFoundError\u001b[0m: No module named 'gtts'"
     ]
    }
   ],
   "source": [
    "m.sound_box(100)"
   ]
  },
  {
   "cell_type": "code",
   "execution_count": null,
   "id": "8f13f9fd-687a-454a-be4a-30780ea0cbf8",
   "metadata": {},
   "outputs": [],
   "source": [
    "pip install gTTS"
   ]
  },
  {
   "cell_type": "code",
   "execution_count": null,
   "id": "3b13d3e6-b660-4cca-8ef2-e797e3922a15",
   "metadata": {},
   "outputs": [],
   "source": []
  }
 ],
 "metadata": {
  "kernelspec": {
   "display_name": "Python [conda env:base] *",
   "language": "python",
   "name": "conda-base-py"
  },
  "language_info": {
   "codemirror_mode": {
    "name": "ipython",
    "version": 3
   },
   "file_extension": ".py",
   "mimetype": "text/x-python",
   "name": "python",
   "nbconvert_exporter": "python",
   "pygments_lexer": "ipython3",
   "version": "3.13.5"
  }
 },
 "nbformat": 4,
 "nbformat_minor": 5
}
