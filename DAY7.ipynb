{
 "cells": [
  {
   "cell_type": "code",
   "execution_count": 1,
   "id": "1f69841e-3ce9-4ec7-967d-ddcd66e19e54",
   "metadata": {},
   "outputs": [],
   "source": [
    "class A:\n",
    "\n",
    "    def i_am_a():\n",
    "        print('I am a func of Class A')\n",
    "\n",
    "class B:\n",
    "\n",
    "    def i_amb_():\n",
    "        print('I am a func of Class B')\n"
   ]
  },
  {
   "cell_type": "code",
   "execution_count": 2,
   "id": "1ae8b0a6-e4b4-4ca1-b0ea-0b833e06b03d",
   "metadata": {},
   "outputs": [],
   "source": [
    "ob_a=A()\n",
    "ob_b=B()\n"
   ]
  },
  {
   "cell_type": "code",
   "execution_count": 3,
   "id": "14a541b8-3654-409f-94a6-0ea924b1fb0a",
   "metadata": {},
   "outputs": [],
   "source": [
    "class BMW:\n",
    "    def super_turbo_engine(self):\n",
    "        print('super_turbo_engine fast speed')\n",
    "\n",
    "class Audi(BMW):#child class,Sub class\n",
    "    def auto_pilot(self):\n",
    "        print('can run on auto pilot Model')\n",
    "        "
   ]
  },
  {
   "cell_type": "code",
   "execution_count": 4,
   "id": "93fd9885-d91e-4a2e-9800-954fe24665c5",
   "metadata": {},
   "outputs": [],
   "source": [
    "audi_r8=Audi()"
   ]
  },
  {
   "cell_type": "code",
   "execution_count": 5,
   "id": "f0c57a6d-1029-4f13-8b65-76c073b88a8b",
   "metadata": {},
   "outputs": [
    {
     "name": "stdout",
     "output_type": "stream",
     "text": [
      "can run on auto pilot Model\n"
     ]
    }
   ],
   "source": [
    "audi_r8.auto_pilot()\n"
   ]
  },
  {
   "cell_type": "code",
   "execution_count": 7,
   "id": "216e164a-abf6-472f-8055-26b990413183",
   "metadata": {},
   "outputs": [
    {
     "name": "stdout",
     "output_type": "stream",
     "text": [
      "super_turbo_engine fast speed\n"
     ]
    }
   ],
   "source": [
    "audi_r8.super_turbo_engine()"
   ]
  },
  {
   "cell_type": "markdown",
   "id": "4c64d576-e983-4b78-be71-ffaea8f19fc3",
   "metadata": {},
   "source": [
    "MULTIPLE INHERITANCE"
   ]
  },
  {
   "cell_type": "code",
   "execution_count": 8,
   "id": "9d8cc8a7-dc8b-47e1-b83e-2a9fe71f76d6",
   "metadata": {},
   "outputs": [],
   "source": [
    "class Daily_object:\n",
    "    def phone_case(self):\n",
    "        print('strong build phone case')\n",
    "\n",
    "class JBL:\n",
    "    def sonic_speaker(self):\n",
    "        print('high quality sound speaker')\n",
    "\n",
    "class Samsung:\n",
    "    def screen_display(self):\n",
    "        print('4K HD Display')\n",
    "\n",
    "class Nvidia:\n",
    "    def motherboard(self):\n",
    "        print('fast motherboard')\n",
    "\n",
    "class Sony:\n",
    "    def camera(self):\n",
    "        print('4k camera')\n",
    "\n",
    "class Lava:\n",
    "    def battery(self):\n",
    "        print('superfast charger')\n",
    "\n",
    "class Oneplus:\n",
    "    def battery(self):\n",
    "        print('original charger')\n",
    "\n",
    "class Mobile(Daily_object,JBL,Samsung,Nvidia,Sony,Oneplus,Lava):\n",
    "    def __init__(self):\n",
    "        print('phone object created successfully')\n",
    "    def battery(self):\n",
    "        print('Actual charger from mobile')"
   ]
  },
  {
   "cell_type": "code",
   "execution_count": 9,
   "id": "c85d2572-92b5-46f0-9dbc-683c892738e9",
   "metadata": {},
   "outputs": [
    {
     "name": "stdout",
     "output_type": "stream",
     "text": [
      "phone object created successfully\n"
     ]
    }
   ],
   "source": [
    "nothing=  Mobile()"
   ]
  },
  {
   "cell_type": "code",
   "execution_count": 10,
   "id": "c4192be7-81f3-4e5d-9de6-144e356238e3",
   "metadata": {},
   "outputs": [
    {
     "name": "stdout",
     "output_type": "stream",
     "text": [
      "Actual charger from mobile\n"
     ]
    }
   ],
   "source": [
    "nothing.battery()"
   ]
  },
  {
   "cell_type": "code",
   "execution_count": 11,
   "id": "043db1e8-30fe-4f2c-8ea3-b5a0b76e3e2f",
   "metadata": {},
   "outputs": [
    {
     "name": "stdout",
     "output_type": "stream",
     "text": [
      "4k camera\n"
     ]
    }
   ],
   "source": [
    "nothing.camera()"
   ]
  },
  {
   "cell_type": "code",
   "execution_count": 12,
   "id": "8e0cc379-8571-4f42-a0d4-9c577580c303",
   "metadata": {},
   "outputs": [
    {
     "name": "stdout",
     "output_type": "stream",
     "text": [
      "4K HD Display\n"
     ]
    }
   ],
   "source": [
    "nothing.screen_display()"
   ]
  },
  {
   "cell_type": "code",
   "execution_count": 13,
   "id": "446d6b37-698a-421b-af25-121014cce131",
   "metadata": {},
   "outputs": [
    {
     "name": "stdout",
     "output_type": "stream",
     "text": [
      "Actual charger from mobile\n"
     ]
    }
   ],
   "source": [
    "nothing.battery()"
   ]
  },
  {
   "cell_type": "code",
   "execution_count": 14,
   "id": "a1df16ce-2355-44e5-ae75-615c247a8401",
   "metadata": {},
   "outputs": [
    {
     "name": "stdout",
     "output_type": "stream",
     "text": [
      "fast motherboard\n"
     ]
    }
   ],
   "source": [
    "nothing.motherboard()"
   ]
  },
  {
   "cell_type": "code",
   "execution_count": 15,
   "id": "fffbd6b0-6411-4b5e-a63c-dc88da7556cf",
   "metadata": {},
   "outputs": [
    {
     "name": "stdout",
     "output_type": "stream",
     "text": [
      "Actual charger from mobile\n"
     ]
    }
   ],
   "source": [
    "nothing.battery()"
   ]
  },
  {
   "cell_type": "markdown",
   "id": "2d1b4b40-d4d8-4cf9-a89f-c2acd22ee8bd",
   "metadata": {},
   "source": [
    "MULTILEVEL"
   ]
  },
  {
   "cell_type": "code",
   "execution_count": 16,
   "id": "9a7544f6-f689-4010-9f9a-cbaf528d8c86",
   "metadata": {},
   "outputs": [],
   "source": [
    "class Grandfather:#superclass\n",
    "    def land_property(self):\n",
    "        print('land property')\n",
    "\n",
    "class Father(Grandfather):#subclass\n",
    "    def bank_balance(self):\n",
    "        print('big money player,Huge bank balance')\n",
    "\n",
    "class Son(Father):#subclass\n",
    "    def political_power(self):\n",
    "        print('political power')\n",
    "\n",
    "class Grandson(Son):#subclass\n",
    "    def mind(self):\n",
    "        print('mind for self study')\n",
    "\n",
    "class Friend(Grandson):#subclass\n",
    "    def __init__(self):\n",
    "        print('nothing')"
   ]
  },
  {
   "cell_type": "code",
   "execution_count": 17,
   "id": "e4917861-8be0-4882-acbd-e1b38abdf2b8",
   "metadata": {},
   "outputs": [
    {
     "name": "stdout",
     "output_type": "stream",
     "text": [
      "done\n"
     ]
    }
   ],
   "source": [
    "aman=Grandson()\n",
    "print('done')"
   ]
  },
  {
   "cell_type": "code",
   "execution_count": 18,
   "id": "0168e6e7-ad31-4be1-be1f-ebfa9e977bad",
   "metadata": {},
   "outputs": [
    {
     "name": "stdout",
     "output_type": "stream",
     "text": [
      "big money player,Huge bank balance\n"
     ]
    }
   ],
   "source": [
    "aman.bank_balance()"
   ]
  },
  {
   "cell_type": "code",
   "execution_count": 19,
   "id": "81ad4b81-b50e-49c5-8fcc-38f91acadb67",
   "metadata": {},
   "outputs": [
    {
     "name": "stdout",
     "output_type": "stream",
     "text": [
      "land property\n"
     ]
    }
   ],
   "source": [
    "aman.land_property()"
   ]
  },
  {
   "cell_type": "code",
   "execution_count": 20,
   "id": "7312353b-c75c-459d-9b2f-ef44dbf69124",
   "metadata": {},
   "outputs": [
    {
     "name": "stdout",
     "output_type": "stream",
     "text": [
      "mind for self study\n"
     ]
    }
   ],
   "source": [
    "aman.mind()"
   ]
  },
  {
   "cell_type": "code",
   "execution_count": 22,
   "id": "a5e2acc7-6266-431f-8b7b-3125d4e8b8f6",
   "metadata": {},
   "outputs": [
    {
     "name": "stdout",
     "output_type": "stream",
     "text": [
      "political power\n"
     ]
    }
   ],
   "source": [
    "aman.political_power()"
   ]
  },
  {
   "cell_type": "code",
   "execution_count": 23,
   "id": "b6075efb-c2b9-4cc2-ad43-629b52ac7a1f",
   "metadata": {},
   "outputs": [
    {
     "name": "stdout",
     "output_type": "stream",
     "text": [
      "nothing\n"
     ]
    }
   ],
   "source": [
    "karan=Friend()\n"
   ]
  },
  {
   "cell_type": "code",
   "execution_count": 24,
   "id": "3344cd7a-2b08-479c-a30e-af4f8c3a61a5",
   "metadata": {},
   "outputs": [
    {
     "name": "stdout",
     "output_type": "stream",
     "text": [
      "big money player,Huge bank balance\n"
     ]
    }
   ],
   "source": [
    "karan.bank_balance()"
   ]
  },
  {
   "cell_type": "code",
   "execution_count": 25,
   "id": "a09ca316-fdad-4400-8248-fcb23f0e45a5",
   "metadata": {},
   "outputs": [
    {
     "name": "stdout",
     "output_type": "stream",
     "text": [
      "land property\n"
     ]
    }
   ],
   "source": [
    "karan.land_property()"
   ]
  },
  {
   "cell_type": "markdown",
   "id": "52286bf5-73a2-42ba-8dfb-0822b595da33",
   "metadata": {},
   "source": [
    "HYBRID INHERITANCE"
   ]
  },
  {
   "cell_type": "code",
   "execution_count": 26,
   "id": "d451da13-33d2-4cbf-bcbf-e3fe72f3e1a3",
   "metadata": {},
   "outputs": [],
   "source": [
    "class Hybrid_class(Mobile,Friend,Audi):\n",
    "    def __init__(self):\n",
    "        print('this is a hybrid class ')\n",
    "\n",
    "    def info(self):\n",
    "        print('it can call any methods')\n",
    "\n"
   ]
  },
  {
   "cell_type": "code",
   "execution_count": 27,
   "id": "c7795a9b-28b2-4a2f-89a8-bd5cf8b4e8f7",
   "metadata": {},
   "outputs": [
    {
     "name": "stdout",
     "output_type": "stream",
     "text": [
      "this is a hybrid class \n"
     ]
    }
   ],
   "source": [
    "HEHE=Hybrid_class()"
   ]
  },
  {
   "cell_type": "code",
   "execution_count": 28,
   "id": "c1d38099-255d-49f1-8536-b6b78c2ae824",
   "metadata": {},
   "outputs": [
    {
     "name": "stdout",
     "output_type": "stream",
     "text": [
      "Actual charger from mobile\n"
     ]
    }
   ],
   "source": [
    "HEHE.battery()"
   ]
  },
  {
   "cell_type": "code",
   "execution_count": 29,
   "id": "8a564f22-e4e6-478d-b5cb-21e973982ea3",
   "metadata": {},
   "outputs": [
    {
     "name": "stdout",
     "output_type": "stream",
     "text": [
      "can run on auto pilot Model\n"
     ]
    }
   ],
   "source": [
    "HEHE.auto_pilot()"
   ]
  },
  {
   "cell_type": "code",
   "execution_count": 30,
   "id": "d5ab498f-d02f-4614-a51e-c97803bb26bd",
   "metadata": {},
   "outputs": [],
   "source": [
    "class UGC:\n",
    "    def __init__(self):\n",
    "        print('grant permission')\n",
    "    def college_approved(self):\n",
    "        print(' list of college')\n",
    "\n",
    "class DU(UGC):\n",
    "    def multiple_college(self):\n",
    "        print('list of colleges')\n",
    "\n",
    "class IP(UGC):\n",
    "    def multiple_colleges(self):\n",
    "        print('list of colleges')\n",
    "\n",
    "class DTU(UGC):\n",
    "    def multiple_college(self):\n",
    "        print('list of colleges')\n",
    "\n",
    "class BHU(UGC):\n",
    "    def multiple_colleges(self):\n",
    "        print('lost of colleges')\n",
    "        "
   ]
  },
  {
   "cell_type": "code",
   "execution_count": 31,
   "id": "38152c4c-a801-4575-b8cb-8d95806cf9e4",
   "metadata": {},
   "outputs": [
    {
     "name": "stdout",
     "output_type": "stream",
     "text": [
      "F1 Car speed: Max speed 200 km/hr\n",
      "F1 Car speed: Max speed 250 km/hr\n",
      "F1 Car speed: Max speed 300 km/hr\n"
     ]
    }
   ],
   "source": [
    "#method overriding\n",
    "class Car:\n",
    "  def speed(self):\n",
    "    return('Max speed 200 km/hr')\n",
    "\n",
    "  def auto_pilot(self):\n",
    "    return('It supports Auto Pilot Mode!!')\n",
    "\n",
    "  def info(self):\n",
    "    return('This is just a car object')\n",
    "\n",
    "class Bmw(Car):\n",
    "  def speed(self):\n",
    "    return('Max speed 250 km/hr')\n",
    "\n",
    "  def info(self):\n",
    "    return('A BMW car object')\n",
    "\n",
    "\n",
    "class Audi(Car):\n",
    "  def speed(self):\n",
    "    return('Max speed 300 km/hr')\n",
    "\n",
    "  def info(self):\n",
    "    return('Audi car')\n",
    "\n",
    "\n",
    "\n",
    "\n",
    "\n",
    "\n",
    "for i in  [Car,Bmw,Audi]:\n",
    "    f1=i()\n",
    "    print('F1 Car speed:',f1.speed())"
   ]
  },
  {
   "cell_type": "code",
   "execution_count": 32,
   "id": "2c6250ae-04bc-426b-a7eb-77b7c8bf87fc",
   "metadata": {},
   "outputs": [
    {
     "name": "stdout",
     "output_type": "stream",
     "text": [
      "hello yo , how are you ?\n",
      "your address is  hohoho \n"
     ]
    }
   ],
   "source": [
    "class IITM:\n",
    "\n",
    "    def intro(self):\n",
    "        print('hello student')\n",
    "\n",
    "\n",
    "    def intro(self,name):\n",
    "        print(f'hello{name}, how are you ?')\n",
    "\n",
    "    def intro(self,name,address):\n",
    "         print(f'hello{name}, how are you ?')\n",
    "         print(f'your address is {address}')\n",
    "\n",
    "a=IITM()\n",
    "\n",
    "a.intro(' yo ',' hohoho ')"
   ]
  },
  {
   "cell_type": "code",
   "execution_count": 34,
   "id": "60be7bcb-eeba-4ae1-ad74-b0cf6bb837e4",
   "metadata": {},
   "outputs": [],
   "source": [
    "class IITM:\n",
    "\n",
    "  def intro(self,name = None,address = None):\n",
    "    if (name == None) and (address == None):\n",
    "      print('Hello Candidates!!')\n",
    "\n",
    "    elif name != None (address !=None):\n",
    "      print(f'Hello {name},how are you??')\n",
    "\n",
    "    elif (name != None) and  (address != None):\n",
    "      print(f'Hello {name},how are you??')\n",
    "      print(f'Your Address is {address}')\n",
    "\n",
    "    else:\n",
    "        print('hello hehehehe')\n",
    "        "
   ]
  },
  {
   "cell_type": "code",
   "execution_count": 35,
   "id": "30193e00-2410-44e9-a5e4-7964e72fcf17",
   "metadata": {},
   "outputs": [
    {
     "ename": "TypeError",
     "evalue": "'NoneType' object is not callable",
     "output_type": "error",
     "traceback": [
      "\u001b[1;31m---------------------------------------------------------------------------\u001b[0m",
      "\u001b[1;31mTypeError\u001b[0m                                 Traceback (most recent call last)",
      "Cell \u001b[1;32mIn[35], line 2\u001b[0m\n\u001b[0;32m      1\u001b[0m a \u001b[38;5;241m=\u001b[39m IITM()\n\u001b[1;32m----> 2\u001b[0m a\u001b[38;5;241m.\u001b[39mintro(address \u001b[38;5;241m=\u001b[39m \u001b[38;5;124m'\u001b[39m\u001b[38;5;124mFaridabad\u001b[39m\u001b[38;5;124m'\u001b[39m)\n",
      "Cell \u001b[1;32mIn[34], line 7\u001b[0m, in \u001b[0;36mIITM.intro\u001b[1;34m(self, name, address)\u001b[0m\n\u001b[0;32m      4\u001b[0m \u001b[38;5;28;01mif\u001b[39;00m (name \u001b[38;5;241m==\u001b[39m \u001b[38;5;28;01mNone\u001b[39;00m) \u001b[38;5;129;01mand\u001b[39;00m (address \u001b[38;5;241m==\u001b[39m \u001b[38;5;28;01mNone\u001b[39;00m):\n\u001b[0;32m      5\u001b[0m   \u001b[38;5;28mprint\u001b[39m(\u001b[38;5;124m'\u001b[39m\u001b[38;5;124mHello Candidates!!\u001b[39m\u001b[38;5;124m'\u001b[39m)\n\u001b[1;32m----> 7\u001b[0m \u001b[38;5;28;01melif\u001b[39;00m name \u001b[38;5;241m!=\u001b[39m \u001b[38;5;28;01mNone\u001b[39;00m (address \u001b[38;5;241m!=\u001b[39m\u001b[38;5;28;01mNone\u001b[39;00m):\n\u001b[0;32m      8\u001b[0m   \u001b[38;5;28mprint\u001b[39m(\u001b[38;5;124mf\u001b[39m\u001b[38;5;124m'\u001b[39m\u001b[38;5;124mHello \u001b[39m\u001b[38;5;132;01m{\u001b[39;00mname\u001b[38;5;132;01m}\u001b[39;00m\u001b[38;5;124m,how are you??\u001b[39m\u001b[38;5;124m'\u001b[39m)\n\u001b[0;32m     10\u001b[0m \u001b[38;5;28;01melif\u001b[39;00m (name \u001b[38;5;241m!=\u001b[39m \u001b[38;5;28;01mNone\u001b[39;00m) \u001b[38;5;129;01mand\u001b[39;00m  (address \u001b[38;5;241m!=\u001b[39m \u001b[38;5;28;01mNone\u001b[39;00m):\n",
      "\u001b[1;31mTypeError\u001b[0m: 'NoneType' object is not callable"
     ]
    }
   ],
   "source": [
    "a = IITM()\n",
    "a.intro(address = 'Faridabad')"
   ]
  },
  {
   "cell_type": "code",
   "execution_count": 36,
   "id": "8e5aec01-44a9-41f7-b62a-4152d876d10a",
   "metadata": {},
   "outputs": [
    {
     "ename": "TypeError",
     "evalue": "Can't instantiate abstract class Website without an implementation for abstract methods 'login', 'logout'",
     "output_type": "error",
     "traceback": [
      "\u001b[1;31m---------------------------------------------------------------------------\u001b[0m",
      "\u001b[1;31mTypeError\u001b[0m                                 Traceback (most recent call last)",
      "Cell \u001b[1;32mIn[36], line 13\u001b[0m\n\u001b[0;32m      8\u001b[0m     \u001b[38;5;129m@abstractmethod\u001b[39m\n\u001b[0;32m      9\u001b[0m     \u001b[38;5;28;01mdef\u001b[39;00m\u001b[38;5;250m \u001b[39m\u001b[38;5;21mlogout\u001b[39m(\u001b[38;5;28mself\u001b[39m):\n\u001b[0;32m     10\u001b[0m         \u001b[38;5;28mprint\u001b[39m(\u001b[38;5;124m'\u001b[39m\u001b[38;5;124mA logout method\u001b[39m\u001b[38;5;124m'\u001b[39m)\n\u001b[1;32m---> 13\u001b[0m asus \u001b[38;5;241m=\u001b[39m Website()\n\u001b[0;32m     14\u001b[0m \u001b[38;5;28mprint\u001b[39m(\u001b[38;5;124m'\u001b[39m\u001b[38;5;124mDone\u001b[39m\u001b[38;5;124m'\u001b[39m)\n",
      "\u001b[1;31mTypeError\u001b[0m: Can't instantiate abstract class Website without an implementation for abstract methods 'login', 'logout'"
     ]
    }
   ],
   "source": [
    "from abc import ABC, abstractmethod\n",
    "\n",
    "class Website(ABC):\n",
    "\n",
    "    @abstractmethod\n",
    "    def login(self):\n",
    "        print('This is a Login method')\n",
    "    @abstractmethod\n",
    "    def logout(self):\n",
    "        print('A logout method')\n",
    "\n",
    "\n",
    "asus = Website()\n",
    "print('Done')"
   ]
  },
  {
   "cell_type": "code",
   "execution_count": 37,
   "id": "843a5a05-94df-473f-b7e2-72444b18cf2a",
   "metadata": {},
   "outputs": [],
   "source": [
    "class Nakul(Website):\n",
    "    def signup(self):\n",
    "        print('usser can signup')\n",
    "\n",
    "    def login(self):\n",
    "        print('This is a Login  Form')\n",
    "\n",
    "    def logout(self):\n",
    "        print('Use can logut')\n",
    "\n",
    "google = Nakul()\n"
   ]
  },
  {
   "cell_type": "code",
   "execution_count": 38,
   "id": "bd9e2028-1d5f-4a70-861b-74468102fd91",
   "metadata": {},
   "outputs": [
    {
     "name": "stdout",
     "output_type": "stream",
     "text": [
      "usser can signup\n"
     ]
    }
   ],
   "source": [
    "google.signup()"
   ]
  },
  {
   "cell_type": "code",
   "execution_count": 39,
   "id": "ef0bac99-f4d9-4979-8135-0b0aa49772ba",
   "metadata": {},
   "outputs": [
    {
     "name": "stdout",
     "output_type": "stream",
     "text": [
      "Use can logut\n"
     ]
    }
   ],
   "source": [
    "google.logout()"
   ]
  },
  {
   "cell_type": "code",
   "execution_count": 40,
   "id": "910ba351-c92d-4d25-8ff9-6c5ee0e6a63e",
   "metadata": {},
   "outputs": [
    {
     "name": "stdout",
     "output_type": "stream",
     "text": [
      "This is a Login  Form\n"
     ]
    }
   ],
   "source": [
    "google.login()"
   ]
  },
  {
   "cell_type": "code",
   "execution_count": null,
   "id": "3dd60403-9ed3-4aa3-afd2-57171537191d",
   "metadata": {},
   "outputs": [],
   "source": []
  }
 ],
 "metadata": {
  "kernelspec": {
   "display_name": "Python [conda env:base] *",
   "language": "python",
   "name": "conda-base-py"
  },
  "language_info": {
   "codemirror_mode": {
    "name": "ipython",
    "version": 3
   },
   "file_extension": ".py",
   "mimetype": "text/x-python",
   "name": "python",
   "nbconvert_exporter": "python",
   "pygments_lexer": "ipython3",
   "version": "3.13.5"
  }
 },
 "nbformat": 4,
 "nbformat_minor": 5
}
